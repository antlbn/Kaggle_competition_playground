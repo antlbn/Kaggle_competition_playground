{
 "cells": [
  {
   "cell_type": "code",
   "execution_count": 1,
   "id": "9def6d6e",
   "metadata": {
    "_cell_guid": "b1076dfc-b9ad-4769-8c92-a6c4dae69d19",
    "_uuid": "8f2839f25d086af736a60e9eeb907d3b93b6e0e5",
    "execution": {
     "iopub.execute_input": "2025-10-24T19:48:19.140094Z",
     "iopub.status.busy": "2025-10-24T19:48:19.139764Z",
     "iopub.status.idle": "2025-10-24T19:48:20.930015Z",
     "shell.execute_reply": "2025-10-24T19:48:20.928941Z"
    },
    "papermill": {
     "duration": 1.80784,
     "end_time": "2025-10-24T19:48:20.931676",
     "exception": false,
     "start_time": "2025-10-24T19:48:19.123836",
     "status": "completed"
    },
    "tags": []
   },
   "outputs": [
    {
     "name": "stdout",
     "output_type": "stream",
     "text": [
      "/kaggle/input/playground-series-s5e10/sample_submission.csv\n",
      "/kaggle/input/playground-series-s5e10/train.csv\n",
      "/kaggle/input/playground-series-s5e10/test.csv\n"
     ]
    }
   ],
   "source": [
    "# This Python 3 environment comes with many helpful analytics libraries installed\n",
    "# It is defined by the kaggle/python Docker image: https://github.com/kaggle/docker-python\n",
    "# For example, here's several helpful packages to load\n",
    "\n",
    "import numpy as np # linear algebra\n",
    "import pandas as pd # data processing, CSV file I/O (e.g. pd.read_csv)\n",
    "\n",
    "# Input data files are available in the read-only \"../input/\" directory\n",
    "# For example, running this (by clicking run or pressing Shift+Enter) will list all files under the input directory\n",
    "\n",
    "import os\n",
    "for dirname, _, filenames in os.walk('/kaggle/input'):\n",
    "    for filename in filenames:\n",
    "        print(os.path.join(dirname, filename))\n",
    "\n",
    "# You can write up to 20GB to the current directory (/kaggle/working/) that gets preserved as output when you create a version using \"Save & Run All\" \n",
    "# You can also write temporary files to /kaggle/temp/, but they won't be saved outside of the current session"
   ]
  },
  {
   "cell_type": "code",
   "execution_count": 2,
   "id": "3a0ec4c9",
   "metadata": {
    "execution": {
     "iopub.execute_input": "2025-10-24T19:48:20.960658Z",
     "iopub.status.busy": "2025-10-24T19:48:20.960221Z",
     "iopub.status.idle": "2025-10-24T19:48:23.395067Z",
     "shell.execute_reply": "2025-10-24T19:48:23.394272Z"
    },
    "papermill": {
     "duration": 2.451152,
     "end_time": "2025-10-24T19:48:23.397039",
     "exception": false,
     "start_time": "2025-10-24T19:48:20.945887",
     "status": "completed"
    },
    "tags": []
   },
   "outputs": [],
   "source": [
    "from matplotlib import pyplot as plt\n",
    "import seaborn as sns\n",
    "from sklearn.model_selection import cross_val_score\n",
    "from xgboost import XGBRegressor\n",
    "from sklearn import metrics\n",
    "from xgboost import plot_importance"
   ]
  },
  {
   "cell_type": "code",
   "execution_count": 3,
   "id": "9805758d",
   "metadata": {
    "execution": {
     "iopub.execute_input": "2025-10-24T19:48:23.428976Z",
     "iopub.status.busy": "2025-10-24T19:48:23.428134Z",
     "iopub.status.idle": "2025-10-24T19:48:23.435635Z",
     "shell.execute_reply": "2025-10-24T19:48:23.434886Z"
    },
    "papermill": {
     "duration": 0.023974,
     "end_time": "2025-10-24T19:48:23.437030",
     "exception": false,
     "start_time": "2025-10-24T19:48:23.413056",
     "status": "completed"
    },
    "tags": []
   },
   "outputs": [
    {
     "data": {
      "text/plain": [
       "['accuracy',\n",
       " 'adjusted_mutual_info_score',\n",
       " 'adjusted_rand_score',\n",
       " 'average_precision',\n",
       " 'balanced_accuracy',\n",
       " 'completeness_score',\n",
       " 'explained_variance',\n",
       " 'f1',\n",
       " 'f1_macro',\n",
       " 'f1_micro',\n",
       " 'f1_samples',\n",
       " 'f1_weighted',\n",
       " 'fowlkes_mallows_score',\n",
       " 'homogeneity_score',\n",
       " 'jaccard',\n",
       " 'jaccard_macro',\n",
       " 'jaccard_micro',\n",
       " 'jaccard_samples',\n",
       " 'jaccard_weighted',\n",
       " 'matthews_corrcoef',\n",
       " 'max_error',\n",
       " 'mutual_info_score',\n",
       " 'neg_brier_score',\n",
       " 'neg_log_loss',\n",
       " 'neg_mean_absolute_error',\n",
       " 'neg_mean_absolute_percentage_error',\n",
       " 'neg_mean_gamma_deviance',\n",
       " 'neg_mean_poisson_deviance',\n",
       " 'neg_mean_squared_error',\n",
       " 'neg_mean_squared_log_error',\n",
       " 'neg_median_absolute_error',\n",
       " 'neg_negative_likelihood_ratio',\n",
       " 'neg_root_mean_squared_error',\n",
       " 'normalized_mutual_info_score',\n",
       " 'positive_likelihood_ratio',\n",
       " 'precision',\n",
       " 'precision_macro',\n",
       " 'precision_micro',\n",
       " 'precision_samples',\n",
       " 'precision_weighted',\n",
       " 'r2',\n",
       " 'rand_score',\n",
       " 'recall',\n",
       " 'recall_macro',\n",
       " 'recall_micro',\n",
       " 'recall_samples',\n",
       " 'recall_weighted',\n",
       " 'roc_auc',\n",
       " 'roc_auc_ovo',\n",
       " 'roc_auc_ovo_weighted',\n",
       " 'roc_auc_ovr',\n",
       " 'roc_auc_ovr_weighted',\n",
       " 'top_k_accuracy',\n",
       " 'v_measure_score']"
      ]
     },
     "execution_count": 3,
     "metadata": {},
     "output_type": "execute_result"
    }
   ],
   "source": [
    "metrics.get_scorer_names()"
   ]
  },
  {
   "cell_type": "code",
   "execution_count": 4,
   "id": "ba84fdf0",
   "metadata": {
    "execution": {
     "iopub.execute_input": "2025-10-24T19:48:23.466063Z",
     "iopub.status.busy": "2025-10-24T19:48:23.465292Z",
     "iopub.status.idle": "2025-10-24T19:48:25.133671Z",
     "shell.execute_reply": "2025-10-24T19:48:25.132596Z"
    },
    "papermill": {
     "duration": 1.684761,
     "end_time": "2025-10-24T19:48:25.135549",
     "exception": false,
     "start_time": "2025-10-24T19:48:23.450788",
     "status": "completed"
    },
    "tags": []
   },
   "outputs": [],
   "source": [
    "df=pd.read_csv(\"/kaggle/input/playground-series-s5e10/train.csv\")\n",
    "X_test=pd.read_csv('/kaggle/input/playground-series-s5e10/test.csv')\n",
    "X=df.copy()"
   ]
  },
  {
   "cell_type": "code",
   "execution_count": 5,
   "id": "78cbb973",
   "metadata": {
    "execution": {
     "iopub.execute_input": "2025-10-24T19:48:25.163668Z",
     "iopub.status.busy": "2025-10-24T19:48:25.163337Z",
     "iopub.status.idle": "2025-10-24T19:48:25.305082Z",
     "shell.execute_reply": "2025-10-24T19:48:25.304184Z"
    },
    "papermill": {
     "duration": 0.157685,
     "end_time": "2025-10-24T19:48:25.306911",
     "exception": false,
     "start_time": "2025-10-24T19:48:25.149226",
     "status": "completed"
    },
    "tags": []
   },
   "outputs": [],
   "source": [
    "# turning 'objects' dtype to 'category' to make suitable for XGBoost\n",
    "for col in X.columns:\n",
    "    if X[col].dtype == 'object':\n",
    "         X[col] = X[col].astype('category')"
   ]
  },
  {
   "cell_type": "code",
   "execution_count": 6,
   "id": "a0fbf15e",
   "metadata": {
    "execution": {
     "iopub.execute_input": "2025-10-24T19:48:25.336778Z",
     "iopub.status.busy": "2025-10-24T19:48:25.336481Z",
     "iopub.status.idle": "2025-10-24T19:48:25.343196Z",
     "shell.execute_reply": "2025-10-24T19:48:25.342300Z"
    },
    "papermill": {
     "duration": 0.02221,
     "end_time": "2025-10-24T19:48:25.344640",
     "exception": false,
     "start_time": "2025-10-24T19:48:25.322430",
     "status": "completed"
    },
    "tags": []
   },
   "outputs": [],
   "source": [
    "X['id'].dtype\n",
    "y=X.pop('accident_risk')"
   ]
  },
  {
   "cell_type": "markdown",
   "id": "0cb3bde4",
   "metadata": {
    "papermill": {
     "duration": 0.012875,
     "end_time": "2025-10-24T19:48:25.371726",
     "exception": false,
     "start_time": "2025-10-24T19:48:25.358851",
     "status": "completed"
    },
    "tags": []
   },
   "source": [
    "# I decided to create few \"helper functions\" to register progress \n",
    "\n",
    "One just make out-of-box XGBoost model \\\n",
    "Second - write down the result to compare \n"
   ]
  },
  {
   "cell_type": "code",
   "execution_count": 7,
   "id": "01608678",
   "metadata": {
    "execution": {
     "iopub.execute_input": "2025-10-24T19:48:25.399465Z",
     "iopub.status.busy": "2025-10-24T19:48:25.398957Z",
     "iopub.status.idle": "2025-10-24T19:48:25.405226Z",
     "shell.execute_reply": "2025-10-24T19:48:25.404378Z"
    },
    "papermill": {
     "duration": 0.021575,
     "end_time": "2025-10-24T19:48:25.406542",
     "exception": false,
     "start_time": "2025-10-24T19:48:25.384967",
     "status": "completed"
    },
    "tags": []
   },
   "outputs": [],
   "source": [
    "# creating Score table to compare scores, the name column - just to prevent some trubles with adding names with .iloc[-1,-1]\n",
    "Scoresy=pd.DataFrame()\n",
    "Scoresy['experiment_name'] = pd.Series()"
   ]
  },
  {
   "cell_type": "code",
   "execution_count": 8,
   "id": "312943a0",
   "metadata": {
    "execution": {
     "iopub.execute_input": "2025-10-24T19:48:25.434419Z",
     "iopub.status.busy": "2025-10-24T19:48:25.434087Z",
     "iopub.status.idle": "2025-10-24T19:48:25.440781Z",
     "shell.execute_reply": "2025-10-24T19:48:25.439964Z"
    },
    "papermill": {
     "duration": 0.022315,
     "end_time": "2025-10-24T19:48:25.442260",
     "exception": false,
     "start_time": "2025-10-24T19:48:25.419945",
     "status": "completed"
    },
    "tags": []
   },
   "outputs": [],
   "source": [
    "## Defining two helper functions: first for scoring, and second for saving score to table\n",
    "def get_scored(X,y):    \n",
    "    model = XGBRegressor(enable_categorical=True)\n",
    "    score = cross_val_score(model,X,y,cv=5,scoring='neg_mean_squared_error')\n",
    "    print(f'RMSE on 5 folds {np.sqrt(-1*score.mean())}')\n",
    "    return score\n",
    "\n",
    "def save_score(score, Scoresy, name):\n",
    "    Scoresy = pd.concat([Scoresy, pd.DataFrame(np.sqrt(-1*score)).T],ignore_index=True)\n",
    "    Scoresy['mean']= Scoresy[[0,1,2,3,4]].mean(axis=1)\n",
    "    Scoresy['std'] = Scoresy[[0,1,2,3,4]].std(axis=1)\n",
    "    Scoresy.iloc[-1, 0]=name\n",
    "    return Scoresy"
   ]
  },
  {
   "cell_type": "markdown",
   "id": "dcc60d23",
   "metadata": {
    "papermill": {
     "duration": 0.013625,
     "end_time": "2025-10-24T19:48:25.469555",
     "exception": false,
     "start_time": "2025-10-24T19:48:25.455930",
     "status": "completed"
    },
    "tags": []
   },
   "source": [
    "## Just Baseline\n",
    "(maybe its better define some params, - not sure)"
   ]
  },
  {
   "cell_type": "code",
   "execution_count": 9,
   "id": "df589d25",
   "metadata": {
    "execution": {
     "iopub.execute_input": "2025-10-24T19:48:25.497107Z",
     "iopub.status.busy": "2025-10-24T19:48:25.496760Z",
     "iopub.status.idle": "2025-10-24T19:48:40.964829Z",
     "shell.execute_reply": "2025-10-24T19:48:40.964067Z"
    },
    "papermill": {
     "duration": 15.483733,
     "end_time": "2025-10-24T19:48:40.966457",
     "exception": false,
     "start_time": "2025-10-24T19:48:25.482724",
     "status": "completed"
    },
    "tags": []
   },
   "outputs": [
    {
     "name": "stdout",
     "output_type": "stream",
     "text": [
      "RMSE on 5 folds 0.05663654556876934\n"
     ]
    }
   ],
   "source": [
    "# Let's create first Baseline!\n",
    "Score = get_scored(X,y)\n",
    "Scoresy = save_score(Score, Scoresy, 'Baseline')"
   ]
  },
  {
   "cell_type": "code",
   "execution_count": 10,
   "id": "0b61fa88",
   "metadata": {
    "execution": {
     "iopub.execute_input": "2025-10-24T19:48:40.995032Z",
     "iopub.status.busy": "2025-10-24T19:48:40.994726Z",
     "iopub.status.idle": "2025-10-24T19:48:41.015856Z",
     "shell.execute_reply": "2025-10-24T19:48:41.014971Z"
    },
    "papermill": {
     "duration": 0.037143,
     "end_time": "2025-10-24T19:48:41.017484",
     "exception": false,
     "start_time": "2025-10-24T19:48:40.980341",
     "status": "completed"
    },
    "tags": []
   },
   "outputs": [
    {
     "data": {
      "text/html": [
       "<div>\n",
       "<style scoped>\n",
       "    .dataframe tbody tr th:only-of-type {\n",
       "        vertical-align: middle;\n",
       "    }\n",
       "\n",
       "    .dataframe tbody tr th {\n",
       "        vertical-align: top;\n",
       "    }\n",
       "\n",
       "    .dataframe thead th {\n",
       "        text-align: right;\n",
       "    }\n",
       "</style>\n",
       "<table border=\"1\" class=\"dataframe\">\n",
       "  <thead>\n",
       "    <tr style=\"text-align: right;\">\n",
       "      <th></th>\n",
       "      <th>experiment_name</th>\n",
       "      <th>0</th>\n",
       "      <th>1</th>\n",
       "      <th>2</th>\n",
       "      <th>3</th>\n",
       "      <th>4</th>\n",
       "      <th>mean</th>\n",
       "      <th>std</th>\n",
       "    </tr>\n",
       "  </thead>\n",
       "  <tbody>\n",
       "    <tr>\n",
       "      <th>0</th>\n",
       "      <td>Baseline</td>\n",
       "      <td>0.057434</td>\n",
       "      <td>0.055794</td>\n",
       "      <td>0.056358</td>\n",
       "      <td>0.05633</td>\n",
       "      <td>0.05725</td>\n",
       "      <td>0.056633</td>\n",
       "      <td>0.000688</td>\n",
       "    </tr>\n",
       "  </tbody>\n",
       "</table>\n",
       "</div>"
      ],
      "text/plain": [
       "  experiment_name         0         1         2        3        4      mean  \\\n",
       "0        Baseline  0.057434  0.055794  0.056358  0.05633  0.05725  0.056633   \n",
       "\n",
       "        std  \n",
       "0  0.000688  "
      ]
     },
     "execution_count": 10,
     "metadata": {},
     "output_type": "execute_result"
    }
   ],
   "source": [
    "Scoresy"
   ]
  },
  {
   "cell_type": "markdown",
   "id": "20ad05fe",
   "metadata": {
    "execution": {
     "iopub.execute_input": "2025-10-12T07:02:22.129383Z",
     "iopub.status.busy": "2025-10-12T07:02:22.128676Z",
     "iopub.status.idle": "2025-10-12T07:02:22.135294Z",
     "shell.execute_reply": "2025-10-12T07:02:22.133936Z",
     "shell.execute_reply.started": "2025-10-12T07:02:22.129352Z"
    },
    "papermill": {
     "duration": 0.013075,
     "end_time": "2025-10-24T19:48:41.044010",
     "exception": false,
     "start_time": "2025-10-24T19:48:41.030935",
     "status": "completed"
    },
    "tags": []
   },
   "source": [
    "## Building Intuition"
   ]
  },
  {
   "cell_type": "code",
   "execution_count": 11,
   "id": "47b00735",
   "metadata": {
    "execution": {
     "iopub.execute_input": "2025-10-24T19:48:41.073380Z",
     "iopub.status.busy": "2025-10-24T19:48:41.072755Z",
     "iopub.status.idle": "2025-10-24T19:48:41.076344Z",
     "shell.execute_reply": "2025-10-24T19:48:41.075598Z"
    },
    "papermill": {
     "duration": 0.019772,
     "end_time": "2025-10-24T19:48:41.077836",
     "exception": false,
     "start_time": "2025-10-24T19:48:41.058064",
     "status": "completed"
    },
    "tags": []
   },
   "outputs": [],
   "source": [
    "# relation betweeen cats and target\n",
    "# curvature - clustering\n"
   ]
  },
  {
   "cell_type": "code",
   "execution_count": 12,
   "id": "26d795d6",
   "metadata": {
    "execution": {
     "iopub.execute_input": "2025-10-24T19:48:41.106488Z",
     "iopub.status.busy": "2025-10-24T19:48:41.106175Z",
     "iopub.status.idle": "2025-10-24T19:48:41.161272Z",
     "shell.execute_reply": "2025-10-24T19:48:41.160286Z"
    },
    "papermill": {
     "duration": 0.071204,
     "end_time": "2025-10-24T19:48:41.162770",
     "exception": false,
     "start_time": "2025-10-24T19:48:41.091566",
     "status": "completed"
    },
    "tags": []
   },
   "outputs": [
    {
     "data": {
      "image/png": "[encoded data removed]",
      "text/html": [
       "<div style=\"vertical-align: middle;\"><strong>viridis</strong> </div><div class=\"cmap\"><img alt=\"viridis colormap\" title=\"viridis\" style=\"border: 1px solid #555;\" src=\"data:image/png;base64,iVBORw0KGgoAAAANSUhEUgAAAgAAAABACAYAAABsv8+/AAAAFnRFWHRUaXRsZQB2aXJpZGlzIGNvbG9ybWFwrE0mCwAAABx0RVh0RGVzY3JpcHRpb24AdmlyaWRpcyBjb2xvcm1hcAtjl3IAAAAwdEVYdEF1dGhvcgBNYXRwbG90bGliIHYzLjcuMiwgaHR0cHM6Ly9tYXRwbG90bGliLm9yZx9CTh4AAAAydEVYdFNvZnR3YXJlAE1hdHBsb3RsaWIgdjMuNy4yLCBodHRwczovL21hdHBsb3RsaWIub3JnMeTROQAAAiJJREFUeJzt1kGSmzAURdEv2FqWkP0vJfQgMhQCGceV2Ttn4pL0EVQPum771X5vVVXVWv39XfrPeV193V5zS98f1sf5/fPjey73zu6/3Hv/uz2cz57f9vP68rxO9+/zre7nhvvG+et6vH92bw3PDfcsD+eX59+/53n96f3362/f87/vf5yr93Of72/fPV9P89tX3zGeH3OT8/07Zs+/32+TuXZZD8/VODf8W5uuH/b7vctlfuv7NazH8/t7ZnP7bz2cD3NL+/Ph3Hl+/efz83vWun/vuL++nquH9eu9w/uu6/vvOO49f/8xf77vOj+8b7Y/fMfse9ca/y7nv+d62a++X+f1vt+G/b7u+/u6TxzzS//tc2053QMABBEAABBIAABAIAEAAIEEAAAEEgAAEEgAAEAgAQAAgQQAAAQSAAAQSAAAQCABAACBBAAABBIAABBIAABAIAEAAIEEAAAEEgAAEEgAAEAgAQAAgQQAAAQSAAAQSAAAQCABAACBBAAABBIAABBIAABAIAEAAIEEAAAEEgAAEEgAAEAgAQAAgQQAAAQSAAAQSAAAQCABAACBBAAABBIAABBIAABAIAEAAIEEAAAEEgAAEEgAAEAgAQAAgQQAAAQSAAAQSAAAQCABAACBBAAABBIAABBIAABAIAEAAIEEAAAEEgAAEEgAAEAgAQAAgQQAAAQSAAAQSAAAQCABAACBBAAABBIAABBIAABAoB9ucImHxcKZtAAAAABJRU5ErkJggg==\"></div><div style=\"vertical-align: middle; max-width: 514px; display: flex; justify-content: space-between;\"><div style=\"float: left;\"><div title=\"#440154ff\" style=\"display: inline-block; width: 1em; height: 1em; margin: 0; vertical-align: middle; border: 1px solid #555; background-color: #440154ff;\"></div> under</div><div style=\"margin: 0 auto; display: inline-block;\">bad <div title=\"#00000000\" style=\"display: inline-block; width: 1em; height: 1em; margin: 0; vertical-align: middle; border: 1px solid #555; background-color: #00000000;\"></div></div><div style=\"float: right;\">over <div title=\"#fde725ff\" style=\"display: inline-block; width: 1em; height: 1em; margin: 0; vertical-align: middle; border: 1px solid #555; background-color: #fde725ff;\"></div></div>"
      ],
      "text/plain": [
       "<matplotlib.colors.ListedColormap at 0x7f9b278b92d0>"
      ]
     },
     "execution_count": 12,
     "metadata": {},
     "output_type": "execute_result"
    }
   ],
   "source": [
    "sns.color_palette(\"viridis\", as_cmap=True)"
   ]
  },
  {
   "cell_type": "code",
   "execution_count": 13,
   "id": "028e02b7",
   "metadata": {
    "execution": {
     "iopub.execute_input": "2025-10-24T19:48:41.192185Z",
     "iopub.status.busy": "2025-10-24T19:48:41.191572Z",
     "iopub.status.idle": "2025-10-24T19:48:41.206261Z",
     "shell.execute_reply": "2025-10-24T19:48:41.205428Z"
    },
    "papermill": {
     "duration": 0.030927,
     "end_time": "2025-10-24T19:48:41.207651",
     "exception": false,
     "start_time": "2025-10-24T19:48:41.176724",
     "status": "completed"
    },
    "tags": []
   },
   "outputs": [
    {
     "data": {
      "text/html": [
       "<div>\n",
       "<style scoped>\n",
       "    .dataframe tbody tr th:only-of-type {\n",
       "        vertical-align: middle;\n",
       "    }\n",
       "\n",
       "    .dataframe tbody tr th {\n",
       "        vertical-align: top;\n",
       "    }\n",
       "\n",
       "    .dataframe thead th {\n",
       "        text-align: right;\n",
       "    }\n",
       "</style>\n",
       "<table border=\"1\" class=\"dataframe\">\n",
       "  <thead>\n",
       "    <tr style=\"text-align: right;\">\n",
       "      <th></th>\n",
       "      <th>id</th>\n",
       "      <th>road_type</th>\n",
       "      <th>num_lanes</th>\n",
       "      <th>curvature</th>\n",
       "      <th>speed_limit</th>\n",
       "      <th>lighting</th>\n",
       "      <th>weather</th>\n",
       "      <th>road_signs_present</th>\n",
       "      <th>public_road</th>\n",
       "      <th>time_of_day</th>\n",
       "      <th>holiday</th>\n",
       "      <th>school_season</th>\n",
       "      <th>num_reported_accidents</th>\n",
       "    </tr>\n",
       "  </thead>\n",
       "  <tbody>\n",
       "    <tr>\n",
       "      <th>0</th>\n",
       "      <td>0</td>\n",
       "      <td>urban</td>\n",
       "      <td>2</td>\n",
       "      <td>0.06</td>\n",
       "      <td>35</td>\n",
       "      <td>daylight</td>\n",
       "      <td>rainy</td>\n",
       "      <td>False</td>\n",
       "      <td>True</td>\n",
       "      <td>afternoon</td>\n",
       "      <td>False</td>\n",
       "      <td>True</td>\n",
       "      <td>1</td>\n",
       "    </tr>\n",
       "    <tr>\n",
       "      <th>1</th>\n",
       "      <td>1</td>\n",
       "      <td>urban</td>\n",
       "      <td>4</td>\n",
       "      <td>0.99</td>\n",
       "      <td>35</td>\n",
       "      <td>daylight</td>\n",
       "      <td>clear</td>\n",
       "      <td>True</td>\n",
       "      <td>False</td>\n",
       "      <td>evening</td>\n",
       "      <td>True</td>\n",
       "      <td>True</td>\n",
       "      <td>0</td>\n",
       "    </tr>\n",
       "    <tr>\n",
       "      <th>2</th>\n",
       "      <td>2</td>\n",
       "      <td>rural</td>\n",
       "      <td>4</td>\n",
       "      <td>0.63</td>\n",
       "      <td>70</td>\n",
       "      <td>dim</td>\n",
       "      <td>clear</td>\n",
       "      <td>False</td>\n",
       "      <td>True</td>\n",
       "      <td>morning</td>\n",
       "      <td>True</td>\n",
       "      <td>False</td>\n",
       "      <td>2</td>\n",
       "    </tr>\n",
       "    <tr>\n",
       "      <th>3</th>\n",
       "      <td>3</td>\n",
       "      <td>highway</td>\n",
       "      <td>4</td>\n",
       "      <td>0.07</td>\n",
       "      <td>35</td>\n",
       "      <td>dim</td>\n",
       "      <td>rainy</td>\n",
       "      <td>True</td>\n",
       "      <td>True</td>\n",
       "      <td>morning</td>\n",
       "      <td>False</td>\n",
       "      <td>False</td>\n",
       "      <td>1</td>\n",
       "    </tr>\n",
       "    <tr>\n",
       "      <th>4</th>\n",
       "      <td>4</td>\n",
       "      <td>rural</td>\n",
       "      <td>1</td>\n",
       "      <td>0.58</td>\n",
       "      <td>60</td>\n",
       "      <td>daylight</td>\n",
       "      <td>foggy</td>\n",
       "      <td>False</td>\n",
       "      <td>False</td>\n",
       "      <td>evening</td>\n",
       "      <td>True</td>\n",
       "      <td>False</td>\n",
       "      <td>1</td>\n",
       "    </tr>\n",
       "  </tbody>\n",
       "</table>\n",
       "</div>"
      ],
      "text/plain": [
       "   id road_type  num_lanes  curvature  speed_limit  lighting weather  \\\n",
       "0   0     urban          2       0.06           35  daylight   rainy   \n",
       "1   1     urban          4       0.99           35  daylight   clear   \n",
       "2   2     rural          4       0.63           70       dim   clear   \n",
       "3   3   highway          4       0.07           35       dim   rainy   \n",
       "4   4     rural          1       0.58           60  daylight   foggy   \n",
       "\n",
       "   road_signs_present  public_road time_of_day  holiday  school_season  \\\n",
       "0               False         True   afternoon    False           True   \n",
       "1                True        False     evening     True           True   \n",
       "2               False         True     morning     True          False   \n",
       "3                True         True     morning    False          False   \n",
       "4               False        False     evening     True          False   \n",
       "\n",
       "   num_reported_accidents  \n",
       "0                       1  \n",
       "1                       0  \n",
       "2                       2  \n",
       "3                       1  \n",
       "4                       1  "
      ]
     },
     "execution_count": 13,
     "metadata": {},
     "output_type": "execute_result"
    }
   ],
   "source": [
    "X.head()"
   ]
  },
  {
   "cell_type": "code",
   "execution_count": 14,
   "id": "02a7b73d",
   "metadata": {
    "execution": {
     "iopub.execute_input": "2025-10-24T19:48:41.236397Z",
     "iopub.status.busy": "2025-10-24T19:48:41.236128Z",
     "iopub.status.idle": "2025-10-24T19:48:41.260774Z",
     "shell.execute_reply": "2025-10-24T19:48:41.259987Z"
    },
    "papermill": {
     "duration": 0.040869,
     "end_time": "2025-10-24T19:48:41.262394",
     "exception": false,
     "start_time": "2025-10-24T19:48:41.221525",
     "status": "completed"
    },
    "tags": []
   },
   "outputs": [],
   "source": [
    "df_frac = df.sample(n =20000)"
   ]
  },
  {
   "cell_type": "code",
   "execution_count": 15,
   "id": "a540e8aa",
   "metadata": {
    "execution": {
     "iopub.execute_input": "2025-10-24T19:48:41.291850Z",
     "iopub.status.busy": "2025-10-24T19:48:41.291164Z",
     "iopub.status.idle": "2025-10-24T19:48:42.470680Z",
     "shell.execute_reply": "2025-10-24T19:48:42.469609Z"
    },
    "papermill": {
     "duration": 1.195626,
     "end_time": "2025-10-24T19:48:42.472154",
     "exception": false,
     "start_time": "2025-10-24T19:48:41.276528",
     "status": "completed"
    },
    "tags": []
   },
   "outputs": [
    {
     "name": "stderr",
     "output_type": "stream",
     "text": [
      "/usr/local/lib/python3.11/dist-packages/seaborn/axisgrid.py:118: UserWarning: The figure layout has changed to tight\n",
      "  self._figure.tight_layout(*args, **kwargs)\n"
     ]
    },
    {
     "data": {
      "text/plain": [
       "<seaborn.axisgrid.FacetGrid at 0x7f9b0b3d7c90>"
      ]
     },
     "execution_count": 15,
     "metadata": {},
     "output_type": "execute_result"
    },
    {
     "data": {
      "image/png": "[encoded data removed]",
      "text/plain": [
       "<Figure size 1085.99x500 with 1 Axes>"
      ]
     },
     "metadata": {},
     "output_type": "display_data"
    }
   ],
   "source": [
    "sns.catplot(data = df, x='road_type', y='accident_risk', kind=\"box\",height=5, aspect=2, hue='num_lanes',palette=\"viridis\")"
   ]
  },
  {
   "cell_type": "code",
   "execution_count": 16,
   "id": "3df98dcb",
   "metadata": {
    "execution": {
     "iopub.execute_input": "2025-10-24T19:48:42.503007Z",
     "iopub.status.busy": "2025-10-24T19:48:42.502687Z",
     "iopub.status.idle": "2025-10-24T19:48:44.313591Z",
     "shell.execute_reply": "2025-10-24T19:48:44.312625Z"
    },
    "papermill": {
     "duration": 1.831903,
     "end_time": "2025-10-24T19:48:44.318944",
     "exception": false,
     "start_time": "2025-10-24T19:48:42.487041",
     "status": "completed"
    },
    "tags": []
   },
   "outputs": [
    {
     "name": "stderr",
     "output_type": "stream",
     "text": [
      "/usr/local/lib/python3.11/dist-packages/seaborn/_oldcore.py:1119: FutureWarning: use_inf_as_na option is deprecated and will be removed in a future version. Convert inf values to NaN before operating instead.\n",
      "  with pd.option_context('mode.use_inf_as_na', True):\n",
      "/usr/local/lib/python3.11/dist-packages/seaborn/_oldcore.py:1119: FutureWarning: use_inf_as_na option is deprecated and will be removed in a future version. Convert inf values to NaN before operating instead.\n",
      "  with pd.option_context('mode.use_inf_as_na', True):\n",
      "/usr/local/lib/python3.11/dist-packages/seaborn/_oldcore.py:1075: FutureWarning: When grouping with a length-1 list-like, you will need to pass a length-1 tuple to get_group in a future version of pandas. Pass `(name,)` instead of `name` to silence this warning.\n",
      "  data_subset = grouped_data.get_group(pd_key)\n"
     ]
    },
    {
     "data": {
      "text/plain": [
       "<Axes: xlabel='accident_risk', ylabel='curvature'>"
      ]
     },
     "execution_count": 16,
     "metadata": {},
     "output_type": "execute_result"
    },
    {
     "data": {
      "image/png": "[encoded data removed]",
      "text/plain": [
       "<Figure size 640x480 with 1 Axes>"
      ]
     },
     "metadata": {},
     "output_type": "display_data"
    }
   ],
   "source": [
    "sns.stripplot(data=df_frac, x='accident_risk' ,y='curvature', hue= 'public_road')"
   ]
  },
  {
   "cell_type": "code",
   "execution_count": 17,
   "id": "11bd6394",
   "metadata": {
    "execution": {
     "iopub.execute_input": "2025-10-24T19:48:44.360079Z",
     "iopub.status.busy": "2025-10-24T19:48:44.359794Z",
     "iopub.status.idle": "2025-10-24T19:48:49.630911Z",
     "shell.execute_reply": "2025-10-24T19:48:49.629979Z"
    },
    "papermill": {
     "duration": 5.293813,
     "end_time": "2025-10-24T19:48:49.632514",
     "exception": false,
     "start_time": "2025-10-24T19:48:44.338701",
     "status": "completed"
    },
    "tags": []
   },
   "outputs": [
    {
     "data": {
      "text/plain": [
       "<Axes: xlabel='weather', ylabel='accident_risk'>"
      ]
     },
     "execution_count": 17,
     "metadata": {},
     "output_type": "execute_result"
    },
    {
     "data": {
      "image/png": "[encoded data removed]",
      "text/plain": [
       "<Figure size 640x480 with 1 Axes>"
      ]
     },
     "metadata": {},
     "output_type": "display_data"
    }
   ],
   "source": [
    "sns.barplot(data = df, y='accident_risk', x='weather', palette=\"viridis\")"
   ]
  },
  {
   "cell_type": "code",
   "execution_count": 18,
   "id": "f726e307",
   "metadata": {
    "execution": {
     "iopub.execute_input": "2025-10-24T19:48:49.675024Z",
     "iopub.status.busy": "2025-10-24T19:48:49.674278Z",
     "iopub.status.idle": "2025-10-24T19:48:54.657327Z",
     "shell.execute_reply": "2025-10-24T19:48:54.656514Z"
    },
    "papermill": {
     "duration": 5.006674,
     "end_time": "2025-10-24T19:48:54.659015",
     "exception": false,
     "start_time": "2025-10-24T19:48:49.652341",
     "status": "completed"
    },
    "tags": []
   },
   "outputs": [
    {
     "data": {
      "text/plain": [
       "<Axes: xlabel='time_of_day', ylabel='accident_risk'>"
      ]
     },
     "execution_count": 18,
     "metadata": {},
     "output_type": "execute_result"
    },
    {
     "data": {
      "image/png": "[encoded data removed]",
      "text/plain": [
       "<Figure size 640x480 with 1 Axes>"
      ]
     },
     "metadata": {},
     "output_type": "display_data"
    }
   ],
   "source": [
    "sns.barplot(data = df, y='accident_risk', x='time_of_day',hue='lighting', palette=\"viridis\")"
   ]
  },
  {
   "cell_type": "markdown",
   "id": "53658311",
   "metadata": {
    "papermill": {
     "duration": 0.021163,
     "end_time": "2025-10-24T19:48:54.701050",
     "exception": false,
     "start_time": "2025-10-24T19:48:54.679887",
     "status": "completed"
    },
    "tags": []
   },
   "source": [
    "### thats strnge, but its fine to have 'night' and 'afternoon' in day time, maybe some data are, kind off, gathered from polar reageon with half-year night . LOL maybe, maybe "
   ]
  },
  {
   "cell_type": "code",
   "execution_count": 19,
   "id": "259bb49c",
   "metadata": {
    "execution": {
     "iopub.execute_input": "2025-10-24T19:48:54.743523Z",
     "iopub.status.busy": "2025-10-24T19:48:54.743176Z",
     "iopub.status.idle": "2025-10-24T19:48:54.768676Z",
     "shell.execute_reply": "2025-10-24T19:48:54.767704Z"
    },
    "papermill": {
     "duration": 0.048599,
     "end_time": "2025-10-24T19:48:54.770228",
     "exception": false,
     "start_time": "2025-10-24T19:48:54.721629",
     "status": "completed"
    },
    "tags": []
   },
   "outputs": [
    {
     "data": {
      "text/html": [
       "<div>\n",
       "<style scoped>\n",
       "    .dataframe tbody tr th:only-of-type {\n",
       "        vertical-align: middle;\n",
       "    }\n",
       "\n",
       "    .dataframe tbody tr th {\n",
       "        vertical-align: top;\n",
       "    }\n",
       "\n",
       "    .dataframe thead th {\n",
       "        text-align: right;\n",
       "    }\n",
       "</style>\n",
       "<table border=\"1\" class=\"dataframe\">\n",
       "  <thead>\n",
       "    <tr style=\"text-align: right;\">\n",
       "      <th></th>\n",
       "      <th>id</th>\n",
       "      <th>road_type</th>\n",
       "      <th>num_lanes</th>\n",
       "      <th>curvature</th>\n",
       "      <th>speed_limit</th>\n",
       "      <th>lighting</th>\n",
       "      <th>weather</th>\n",
       "      <th>road_signs_present</th>\n",
       "      <th>public_road</th>\n",
       "      <th>time_of_day</th>\n",
       "      <th>holiday</th>\n",
       "      <th>school_season</th>\n",
       "      <th>num_reported_accidents</th>\n",
       "    </tr>\n",
       "  </thead>\n",
       "  <tbody>\n",
       "    <tr>\n",
       "      <th>0</th>\n",
       "      <td>0</td>\n",
       "      <td>urban</td>\n",
       "      <td>2</td>\n",
       "      <td>0.06</td>\n",
       "      <td>35</td>\n",
       "      <td>daylight</td>\n",
       "      <td>rainy</td>\n",
       "      <td>False</td>\n",
       "      <td>True</td>\n",
       "      <td>afternoon</td>\n",
       "      <td>False</td>\n",
       "      <td>True</td>\n",
       "      <td>1</td>\n",
       "    </tr>\n",
       "    <tr>\n",
       "      <th>9</th>\n",
       "      <td>9</td>\n",
       "      <td>urban</td>\n",
       "      <td>4</td>\n",
       "      <td>0.38</td>\n",
       "      <td>45</td>\n",
       "      <td>dim</td>\n",
       "      <td>clear</td>\n",
       "      <td>True</td>\n",
       "      <td>True</td>\n",
       "      <td>afternoon</td>\n",
       "      <td>True</td>\n",
       "      <td>True</td>\n",
       "      <td>2</td>\n",
       "    </tr>\n",
       "    <tr>\n",
       "      <th>10</th>\n",
       "      <td>10</td>\n",
       "      <td>highway</td>\n",
       "      <td>1</td>\n",
       "      <td>0.45</td>\n",
       "      <td>45</td>\n",
       "      <td>dim</td>\n",
       "      <td>clear</td>\n",
       "      <td>False</td>\n",
       "      <td>False</td>\n",
       "      <td>afternoon</td>\n",
       "      <td>True</td>\n",
       "      <td>False</td>\n",
       "      <td>2</td>\n",
       "    </tr>\n",
       "    <tr>\n",
       "      <th>15</th>\n",
       "      <td>15</td>\n",
       "      <td>urban</td>\n",
       "      <td>1</td>\n",
       "      <td>0.52</td>\n",
       "      <td>60</td>\n",
       "      <td>daylight</td>\n",
       "      <td>clear</td>\n",
       "      <td>False</td>\n",
       "      <td>True</td>\n",
       "      <td>afternoon</td>\n",
       "      <td>True</td>\n",
       "      <td>False</td>\n",
       "      <td>1</td>\n",
       "    </tr>\n",
       "    <tr>\n",
       "      <th>18</th>\n",
       "      <td>18</td>\n",
       "      <td>rural</td>\n",
       "      <td>3</td>\n",
       "      <td>0.72</td>\n",
       "      <td>60</td>\n",
       "      <td>night</td>\n",
       "      <td>foggy</td>\n",
       "      <td>True</td>\n",
       "      <td>True</td>\n",
       "      <td>afternoon</td>\n",
       "      <td>True</td>\n",
       "      <td>True</td>\n",
       "      <td>0</td>\n",
       "    </tr>\n",
       "    <tr>\n",
       "      <th>...</th>\n",
       "      <td>...</td>\n",
       "      <td>...</td>\n",
       "      <td>...</td>\n",
       "      <td>...</td>\n",
       "      <td>...</td>\n",
       "      <td>...</td>\n",
       "      <td>...</td>\n",
       "      <td>...</td>\n",
       "      <td>...</td>\n",
       "      <td>...</td>\n",
       "      <td>...</td>\n",
       "      <td>...</td>\n",
       "      <td>...</td>\n",
       "    </tr>\n",
       "    <tr>\n",
       "      <th>517748</th>\n",
       "      <td>517748</td>\n",
       "      <td>rural</td>\n",
       "      <td>2</td>\n",
       "      <td>0.53</td>\n",
       "      <td>70</td>\n",
       "      <td>dim</td>\n",
       "      <td>foggy</td>\n",
       "      <td>True</td>\n",
       "      <td>True</td>\n",
       "      <td>afternoon</td>\n",
       "      <td>True</td>\n",
       "      <td>True</td>\n",
       "      <td>2</td>\n",
       "    </tr>\n",
       "    <tr>\n",
       "      <th>517749</th>\n",
       "      <td>517749</td>\n",
       "      <td>highway</td>\n",
       "      <td>4</td>\n",
       "      <td>0.10</td>\n",
       "      <td>70</td>\n",
       "      <td>daylight</td>\n",
       "      <td>foggy</td>\n",
       "      <td>True</td>\n",
       "      <td>True</td>\n",
       "      <td>afternoon</td>\n",
       "      <td>False</td>\n",
       "      <td>False</td>\n",
       "      <td>2</td>\n",
       "    </tr>\n",
       "    <tr>\n",
       "      <th>517751</th>\n",
       "      <td>517751</td>\n",
       "      <td>urban</td>\n",
       "      <td>4</td>\n",
       "      <td>0.62</td>\n",
       "      <td>25</td>\n",
       "      <td>daylight</td>\n",
       "      <td>foggy</td>\n",
       "      <td>False</td>\n",
       "      <td>False</td>\n",
       "      <td>afternoon</td>\n",
       "      <td>False</td>\n",
       "      <td>True</td>\n",
       "      <td>0</td>\n",
       "    </tr>\n",
       "    <tr>\n",
       "      <th>517752</th>\n",
       "      <td>517752</td>\n",
       "      <td>highway</td>\n",
       "      <td>3</td>\n",
       "      <td>0.63</td>\n",
       "      <td>25</td>\n",
       "      <td>night</td>\n",
       "      <td>clear</td>\n",
       "      <td>True</td>\n",
       "      <td>False</td>\n",
       "      <td>afternoon</td>\n",
       "      <td>True</td>\n",
       "      <td>True</td>\n",
       "      <td>3</td>\n",
       "    </tr>\n",
       "    <tr>\n",
       "      <th>517753</th>\n",
       "      <td>517753</td>\n",
       "      <td>highway</td>\n",
       "      <td>2</td>\n",
       "      <td>0.31</td>\n",
       "      <td>45</td>\n",
       "      <td>dim</td>\n",
       "      <td>rainy</td>\n",
       "      <td>False</td>\n",
       "      <td>True</td>\n",
       "      <td>afternoon</td>\n",
       "      <td>True</td>\n",
       "      <td>True</td>\n",
       "      <td>2</td>\n",
       "    </tr>\n",
       "  </tbody>\n",
       "</table>\n",
       "<p>171507 rows × 13 columns</p>\n",
       "</div>"
      ],
      "text/plain": [
       "            id road_type  num_lanes  curvature  speed_limit  lighting weather  \\\n",
       "0            0     urban          2       0.06           35  daylight   rainy   \n",
       "9            9     urban          4       0.38           45       dim   clear   \n",
       "10          10   highway          1       0.45           45       dim   clear   \n",
       "15          15     urban          1       0.52           60  daylight   clear   \n",
       "18          18     rural          3       0.72           60     night   foggy   \n",
       "...        ...       ...        ...        ...          ...       ...     ...   \n",
       "517748  517748     rural          2       0.53           70       dim   foggy   \n",
       "517749  517749   highway          4       0.10           70  daylight   foggy   \n",
       "517751  517751     urban          4       0.62           25  daylight   foggy   \n",
       "517752  517752   highway          3       0.63           25     night   clear   \n",
       "517753  517753   highway          2       0.31           45       dim   rainy   \n",
       "\n",
       "        road_signs_present  public_road time_of_day  holiday  school_season  \\\n",
       "0                    False         True   afternoon    False           True   \n",
       "9                     True         True   afternoon     True           True   \n",
       "10                   False        False   afternoon     True          False   \n",
       "15                   False         True   afternoon     True          False   \n",
       "18                    True         True   afternoon     True           True   \n",
       "...                    ...          ...         ...      ...            ...   \n",
       "517748                True         True   afternoon     True           True   \n",
       "517749                True         True   afternoon    False          False   \n",
       "517751               False        False   afternoon    False           True   \n",
       "517752                True        False   afternoon     True           True   \n",
       "517753               False         True   afternoon     True           True   \n",
       "\n",
       "        num_reported_accidents  \n",
       "0                            1  \n",
       "9                            2  \n",
       "10                           2  \n",
       "15                           1  \n",
       "18                           0  \n",
       "...                        ...  \n",
       "517748                       2  \n",
       "517749                       2  \n",
       "517751                       0  \n",
       "517752                       3  \n",
       "517753                       2  \n",
       "\n",
       "[171507 rows x 13 columns]"
      ]
     },
     "execution_count": 19,
     "metadata": {},
     "output_type": "execute_result"
    }
   ],
   "source": [
    "X[X['time_of_day']=='afternoon']"
   ]
  },
  {
   "cell_type": "markdown",
   "id": "dbbff3f9",
   "metadata": {
    "papermill": {
     "duration": 0.020742,
     "end_time": "2025-10-24T19:48:54.811810",
     "exception": false,
     "start_time": "2025-10-24T19:48:54.791068",
     "status": "completed"
    },
    "tags": []
   },
   "source": [
    "## Feature engineering"
   ]
  },
  {
   "cell_type": "markdown",
   "id": "522cc381",
   "metadata": {
    "papermill": {
     "duration": 0.020247,
     "end_time": "2025-10-24T19:48:54.852521",
     "exception": false,
     "start_time": "2025-10-24T19:48:54.832274",
     "status": "completed"
    },
    "tags": []
   },
   "source": [
    "I found that 'id' column is kind of toxic one"
   ]
  },
  {
   "cell_type": "code",
   "execution_count": 20,
   "id": "aee1e40e",
   "metadata": {
    "execution": {
     "iopub.execute_input": "2025-10-24T19:48:54.894981Z",
     "iopub.status.busy": "2025-10-24T19:48:54.894668Z",
     "iopub.status.idle": "2025-10-24T19:48:54.901697Z",
     "shell.execute_reply": "2025-10-24T19:48:54.900881Z"
    },
    "papermill": {
     "duration": 0.030186,
     "end_time": "2025-10-24T19:48:54.903092",
     "exception": false,
     "start_time": "2025-10-24T19:48:54.872906",
     "status": "completed"
    },
    "tags": []
   },
   "outputs": [
    {
     "data": {
      "text/plain": [
       "0              0\n",
       "1              1\n",
       "2              2\n",
       "3              3\n",
       "4              4\n",
       "           ...  \n",
       "517749    517749\n",
       "517750    517750\n",
       "517751    517751\n",
       "517752    517752\n",
       "517753    517753\n",
       "Name: id, Length: 517754, dtype: int64"
      ]
     },
     "execution_count": 20,
     "metadata": {},
     "output_type": "execute_result"
    }
   ],
   "source": [
    "X.pop('id')"
   ]
  },
  {
   "cell_type": "code",
   "execution_count": 21,
   "id": "3f5b564a",
   "metadata": {
    "execution": {
     "iopub.execute_input": "2025-10-24T19:48:54.945315Z",
     "iopub.status.busy": "2025-10-24T19:48:54.944971Z",
     "iopub.status.idle": "2025-10-24T19:49:11.070307Z",
     "shell.execute_reply": "2025-10-24T19:49:11.069506Z"
    },
    "papermill": {
     "duration": 16.148659,
     "end_time": "2025-10-24T19:49:11.072231",
     "exception": false,
     "start_time": "2025-10-24T19:48:54.923572",
     "status": "completed"
    },
    "tags": []
   },
   "outputs": [
    {
     "name": "stdout",
     "output_type": "stream",
     "text": [
      "RMSE on 5 folds 0.056161994287263574\n"
     ]
    }
   ],
   "source": [
    "Score = get_scored(X,y)\n",
    "Scoresy = save_score(Score, Scoresy, 'id_drop')"
   ]
  },
  {
   "cell_type": "code",
   "execution_count": 22,
   "id": "23a89374",
   "metadata": {
    "execution": {
     "iopub.execute_input": "2025-10-24T19:49:11.115332Z",
     "iopub.status.busy": "2025-10-24T19:49:11.115038Z",
     "iopub.status.idle": "2025-10-24T19:49:11.126608Z",
     "shell.execute_reply": "2025-10-24T19:49:11.125766Z"
    },
    "papermill": {
     "duration": 0.034521,
     "end_time": "2025-10-24T19:49:11.128269",
     "exception": false,
     "start_time": "2025-10-24T19:49:11.093748",
     "status": "completed"
    },
    "tags": []
   },
   "outputs": [],
   "source": [
    "X['num_lanes_cat']=X['num_lanes']\n",
    "X['num_lanes_cat']=X['num_lanes_cat'].astype('category')"
   ]
  },
  {
   "cell_type": "code",
   "execution_count": 23,
   "id": "2f1aa191",
   "metadata": {
    "execution": {
     "iopub.execute_input": "2025-10-24T19:49:11.172070Z",
     "iopub.status.busy": "2025-10-24T19:49:11.171785Z",
     "iopub.status.idle": "2025-10-24T19:49:28.644162Z",
     "shell.execute_reply": "2025-10-24T19:49:28.643480Z"
    },
    "papermill": {
     "duration": 17.496967,
     "end_time": "2025-10-24T19:49:28.646359",
     "exception": false,
     "start_time": "2025-10-24T19:49:11.149392",
     "status": "completed"
    },
    "tags": []
   },
   "outputs": [
    {
     "name": "stdout",
     "output_type": "stream",
     "text": [
      "RMSE on 5 folds 0.05616428457315217\n"
     ]
    },
    {
     "data": {
      "text/html": [
       "<div>\n",
       "<style scoped>\n",
       "    .dataframe tbody tr th:only-of-type {\n",
       "        vertical-align: middle;\n",
       "    }\n",
       "\n",
       "    .dataframe tbody tr th {\n",
       "        vertical-align: top;\n",
       "    }\n",
       "\n",
       "    .dataframe thead th {\n",
       "        text-align: right;\n",
       "    }\n",
       "</style>\n",
       "<table border=\"1\" class=\"dataframe\">\n",
       "  <thead>\n",
       "    <tr style=\"text-align: right;\">\n",
       "      <th></th>\n",
       "      <th>experiment_name</th>\n",
       "      <th>0</th>\n",
       "      <th>1</th>\n",
       "      <th>2</th>\n",
       "      <th>3</th>\n",
       "      <th>4</th>\n",
       "      <th>mean</th>\n",
       "      <th>std</th>\n",
       "    </tr>\n",
       "  </thead>\n",
       "  <tbody>\n",
       "    <tr>\n",
       "      <th>0</th>\n",
       "      <td>Baseline</td>\n",
       "      <td>0.057434</td>\n",
       "      <td>0.055794</td>\n",
       "      <td>0.056358</td>\n",
       "      <td>0.056330</td>\n",
       "      <td>0.057250</td>\n",
       "      <td>0.056633</td>\n",
       "      <td>0.000688</td>\n",
       "    </tr>\n",
       "    <tr>\n",
       "      <th>1</th>\n",
       "      <td>id_drop</td>\n",
       "      <td>0.056413</td>\n",
       "      <td>0.055778</td>\n",
       "      <td>0.056384</td>\n",
       "      <td>0.056270</td>\n",
       "      <td>0.055961</td>\n",
       "      <td>0.056161</td>\n",
       "      <td>0.000279</td>\n",
       "    </tr>\n",
       "    <tr>\n",
       "      <th>2</th>\n",
       "      <td>num_lanes_to_category_copy</td>\n",
       "      <td>0.056380</td>\n",
       "      <td>0.055809</td>\n",
       "      <td>0.056369</td>\n",
       "      <td>0.056288</td>\n",
       "      <td>0.055974</td>\n",
       "      <td>0.056164</td>\n",
       "      <td>0.000258</td>\n",
       "    </tr>\n",
       "  </tbody>\n",
       "</table>\n",
       "</div>"
      ],
      "text/plain": [
       "              experiment_name         0         1         2         3  \\\n",
       "0                    Baseline  0.057434  0.055794  0.056358  0.056330   \n",
       "1                     id_drop  0.056413  0.055778  0.056384  0.056270   \n",
       "2  num_lanes_to_category_copy  0.056380  0.055809  0.056369  0.056288   \n",
       "\n",
       "          4      mean       std  \n",
       "0  0.057250  0.056633  0.000688  \n",
       "1  0.055961  0.056161  0.000279  \n",
       "2  0.055974  0.056164  0.000258  "
      ]
     },
     "execution_count": 23,
     "metadata": {},
     "output_type": "execute_result"
    }
   ],
   "source": [
    "Score = get_scored(X,y)\n",
    "Scoresy = save_score(Score, Scoresy, 'num_lanes_to_category_copy')\n",
    "Scoresy.head()"
   ]
  },
  {
   "cell_type": "code",
   "execution_count": 24,
   "id": "6051c56b",
   "metadata": {
    "collapsed": true,
    "execution": {
     "iopub.execute_input": "2025-10-24T19:49:28.689583Z",
     "iopub.status.busy": "2025-10-24T19:49:28.689228Z",
     "iopub.status.idle": "2025-10-24T19:49:28.719250Z",
     "shell.execute_reply": "2025-10-24T19:49:28.718149Z"
    },
    "jupyter": {
     "outputs_hidden": true
    },
    "papermill": {
     "duration": 0.053374,
     "end_time": "2025-10-24T19:49:28.720883",
     "exception": false,
     "start_time": "2025-10-24T19:49:28.667509",
     "status": "completed"
    },
    "tags": []
   },
   "outputs": [
    {
     "name": "stdout",
     "output_type": "stream",
     "text": [
      "<class 'pandas.core.frame.DataFrame'>\n",
      "RangeIndex: 517754 entries, 0 to 517753\n",
      "Data columns (total 13 columns):\n",
      " #   Column                  Non-Null Count   Dtype   \n",
      "---  ------                  --------------   -----   \n",
      " 0   road_type               517754 non-null  category\n",
      " 1   num_lanes               517754 non-null  int64   \n",
      " 2   curvature               517754 non-null  float64 \n",
      " 3   speed_limit             517754 non-null  int64   \n",
      " 4   lighting                517754 non-null  category\n",
      " 5   weather                 517754 non-null  category\n",
      " 6   road_signs_present      517754 non-null  bool    \n",
      " 7   public_road             517754 non-null  bool    \n",
      " 8   time_of_day             517754 non-null  category\n",
      " 9   holiday                 517754 non-null  bool    \n",
      " 10  school_season           517754 non-null  bool    \n",
      " 11  num_reported_accidents  517754 non-null  int64   \n",
      " 12  num_lanes_cat           517754 non-null  category\n",
      "dtypes: bool(4), category(5), float64(1), int64(3)\n",
      "memory usage: 20.2 MB\n"
     ]
    }
   ],
   "source": [
    "X.info()"
   ]
  },
  {
   "cell_type": "code",
   "execution_count": 25,
   "id": "a87d76c4",
   "metadata": {
    "execution": {
     "iopub.execute_input": "2025-10-24T19:49:28.764740Z",
     "iopub.status.busy": "2025-10-24T19:49:28.764388Z",
     "iopub.status.idle": "2025-10-24T19:49:32.711258Z",
     "shell.execute_reply": "2025-10-24T19:49:32.710571Z"
    },
    "papermill": {
     "duration": 3.970947,
     "end_time": "2025-10-24T19:49:32.713222",
     "exception": false,
     "start_time": "2025-10-24T19:49:28.742275",
     "status": "completed"
    },
    "tags": []
   },
   "outputs": [
    {
     "data": {
      "text/html": [
       "<style>#sk-container-id-1 {color: black;background-color: white;}#sk-container-id-1 pre{padding: 0;}#sk-container-id-1 div.sk-toggleable {background-color: white;}#sk-container-id-1 label.sk-toggleable__label {cursor: pointer;display: block;width: 100%;margin-bottom: 0;padding: 0.3em;box-sizing: border-box;text-align: center;}#sk-container-id-1 label.sk-toggleable__label-arrow:before {content: \"▸\";float: left;margin-right: 0.25em;color: #696969;}#sk-container-id-1 label.sk-toggleable__label-arrow:hover:before {color: black;}#sk-container-id-1 div.sk-estimator:hover label.sk-toggleable__label-arrow:before {color: black;}#sk-container-id-1 div.sk-toggleable__content {max-height: 0;max-width: 0;overflow: hidden;text-align: left;background-color: #f0f8ff;}#sk-container-id-1 div.sk-toggleable__content pre {margin: 0.2em;color: black;border-radius: 0.25em;background-color: #f0f8ff;}#sk-container-id-1 input.sk-toggleable__control:checked~div.sk-toggleable__content {max-height: 200px;max-width: 100%;overflow: auto;}#sk-container-id-1 input.sk-toggleable__control:checked~label.sk-toggleable__label-arrow:before {content: \"▾\";}#sk-container-id-1 div.sk-estimator input.sk-toggleable__control:checked~label.sk-toggleable__label {background-color: #d4ebff;}#sk-container-id-1 div.sk-label input.sk-toggleable__control:checked~label.sk-toggleable__label {background-color: #d4ebff;}#sk-container-id-1 input.sk-hidden--visually {border: 0;clip: rect(1px 1px 1px 1px);clip: rect(1px, 1px, 1px, 1px);height: 1px;margin: -1px;overflow: hidden;padding: 0;position: absolute;width: 1px;}#sk-container-id-1 div.sk-estimator {font-family: monospace;background-color: #f0f8ff;border: 1px dotted black;border-radius: 0.25em;box-sizing: border-box;margin-bottom: 0.5em;}#sk-container-id-1 div.sk-estimator:hover {background-color: #d4ebff;}#sk-container-id-1 div.sk-parallel-item::after {content: \"\";width: 100%;border-bottom: 1px solid gray;flex-grow: 1;}#sk-container-id-1 div.sk-label:hover label.sk-toggleable__label {background-color: #d4ebff;}#sk-container-id-1 div.sk-serial::before {content: \"\";position: absolute;border-left: 1px solid gray;box-sizing: border-box;top: 0;bottom: 0;left: 50%;z-index: 0;}#sk-container-id-1 div.sk-serial {display: flex;flex-direction: column;align-items: center;background-color: white;padding-right: 0.2em;padding-left: 0.2em;position: relative;}#sk-container-id-1 div.sk-item {position: relative;z-index: 1;}#sk-container-id-1 div.sk-parallel {display: flex;align-items: stretch;justify-content: center;background-color: white;position: relative;}#sk-container-id-1 div.sk-item::before, #sk-container-id-1 div.sk-parallel-item::before {content: \"\";position: absolute;border-left: 1px solid gray;box-sizing: border-box;top: 0;bottom: 0;left: 50%;z-index: -1;}#sk-container-id-1 div.sk-parallel-item {display: flex;flex-direction: column;z-index: 1;position: relative;background-color: white;}#sk-container-id-1 div.sk-parallel-item:first-child::after {align-self: flex-end;width: 50%;}#sk-container-id-1 div.sk-parallel-item:last-child::after {align-self: flex-start;width: 50%;}#sk-container-id-1 div.sk-parallel-item:only-child::after {width: 0;}#sk-container-id-1 div.sk-dashed-wrapped {border: 1px dashed gray;margin: 0 0.4em 0.5em 0.4em;box-sizing: border-box;padding-bottom: 0.4em;background-color: white;}#sk-container-id-1 div.sk-label label {font-family: monospace;font-weight: bold;display: inline-block;line-height: 1.2em;}#sk-container-id-1 div.sk-label-container {text-align: center;}#sk-container-id-1 div.sk-container {/* jupyter's `normalize.less` sets `[hidden] { display: none; }` but bootstrap.min.css set `[hidden] { display: none !important; }` so we also need the `!important` here to be able to override the default hidden behavior on the sphinx rendered scikit-learn.org. See: https://github.com/scikit-learn/scikit-learn/issues/21755 */display: inline-block !important;position: relative;}#sk-container-id-1 div.sk-text-repr-fallback {display: none;}</style><div id=\"sk-container-id-1\" class=\"sk-top-container\"><div class=\"sk-text-repr-fallback\"><pre>XGBRegressor(base_score=None, booster=None, callbacks=None,\n",
       "             colsample_bylevel=None, colsample_bynode=None,\n",
       "             colsample_bytree=None, device=None, early_stopping_rounds=None,\n",
       "             enable_categorical=True, eval_metric=None, feature_types=None,\n",
       "             gamma=None, grow_policy=None, importance_type=None,\n",
       "             interaction_constraints=None, learning_rate=None, max_bin=None,\n",
       "             max_cat_threshold=None, max_cat_to_onehot=None,\n",
       "             max_delta_step=None, max_depth=None, max_leaves=None,\n",
       "             min_child_weight=None, missing=nan, monotone_constraints=None,\n",
       "             multi_strategy=None, n_estimators=None, n_jobs=None,\n",
       "             num_parallel_tree=None, random_state=None, ...)</pre><b>In a Jupyter environment, please rerun this cell to show the HTML representation or trust the notebook. <br />On GitHub, the HTML representation is unable to render, please try loading this page with nbviewer.org.</b></div><div class=\"sk-container\" hidden><div class=\"sk-item\"><div class=\"sk-estimator sk-toggleable\"><input class=\"sk-toggleable__control sk-hidden--visually\" id=\"sk-estimator-id-1\" type=\"checkbox\" checked><label for=\"sk-estimator-id-1\" class=\"sk-toggleable__label sk-toggleable__label-arrow\">XGBRegressor</label><div class=\"sk-toggleable__content\"><pre>XGBRegressor(base_score=None, booster=None, callbacks=None,\n",
       "             colsample_bylevel=None, colsample_bynode=None,\n",
       "             colsample_bytree=None, device=None, early_stopping_rounds=None,\n",
       "             enable_categorical=True, eval_metric=None, feature_types=None,\n",
       "             gamma=None, grow_policy=None, importance_type=None,\n",
       "             interaction_constraints=None, learning_rate=None, max_bin=None,\n",
       "             max_cat_threshold=None, max_cat_to_onehot=None,\n",
       "             max_delta_step=None, max_depth=None, max_leaves=None,\n",
       "             min_child_weight=None, missing=nan, monotone_constraints=None,\n",
       "             multi_strategy=None, n_estimators=None, n_jobs=None,\n",
       "             num_parallel_tree=None, random_state=None, ...)</pre></div></div></div></div></div>"
      ],
      "text/plain": [
       "XGBRegressor(base_score=None, booster=None, callbacks=None,\n",
       "             colsample_bylevel=None, colsample_bynode=None,\n",
       "             colsample_bytree=None, device=None, early_stopping_rounds=None,\n",
       "             enable_categorical=True, eval_metric=None, feature_types=None,\n",
       "             gamma=None, grow_policy=None, importance_type=None,\n",
       "             interaction_constraints=None, learning_rate=None, max_bin=None,\n",
       "             max_cat_threshold=None, max_cat_to_onehot=None,\n",
       "             max_delta_step=None, max_depth=None, max_leaves=None,\n",
       "             min_child_weight=None, missing=nan, monotone_constraints=None,\n",
       "             multi_strategy=None, n_estimators=None, n_jobs=None,\n",
       "             num_parallel_tree=None, random_state=None, ...)"
      ]
     },
     "execution_count": 25,
     "metadata": {},
     "output_type": "execute_result"
    }
   ],
   "source": [
    "model = XGBRegressor(enable_categorical=True)\n",
    "model.fit(X,y)"
   ]
  },
  {
   "cell_type": "code",
   "execution_count": 26,
   "id": "0064a844",
   "metadata": {
    "execution": {
     "iopub.execute_input": "2025-10-24T19:49:32.756429Z",
     "iopub.status.busy": "2025-10-24T19:49:32.756151Z",
     "iopub.status.idle": "2025-10-24T19:49:33.037069Z",
     "shell.execute_reply": "2025-10-24T19:49:33.036149Z"
    },
    "papermill": {
     "duration": 0.30454,
     "end_time": "2025-10-24T19:49:33.038817",
     "exception": false,
     "start_time": "2025-10-24T19:49:32.734277",
     "status": "completed"
    },
    "tags": []
   },
   "outputs": [
    {
     "data": {
      "text/plain": [
       "<Axes: title={'center': 'Feature importance'}, xlabel='F score', ylabel='Features'>"
      ]
     },
     "execution_count": 26,
     "metadata": {},
     "output_type": "execute_result"
    },
    {
     "data": {
      "image/png": "[encoded data removed]",
      "text/plain": [
       "<Figure size 640x480 with 1 Axes>"
      ]
     },
     "metadata": {},
     "output_type": "display_data"
    }
   ],
   "source": [
    "plot_importance(model)"
   ]
  },
  {
   "cell_type": "code",
   "execution_count": 27,
   "id": "c24624ef",
   "metadata": {
    "execution": {
     "iopub.execute_input": "2025-10-24T19:49:33.085371Z",
     "iopub.status.busy": "2025-10-24T19:49:33.085066Z",
     "iopub.status.idle": "2025-10-24T19:49:33.091028Z",
     "shell.execute_reply": "2025-10-24T19:49:33.090298Z"
    },
    "papermill": {
     "duration": 0.030653,
     "end_time": "2025-10-24T19:49:33.092598",
     "exception": false,
     "start_time": "2025-10-24T19:49:33.061945",
     "status": "completed"
    },
    "tags": []
   },
   "outputs": [],
   "source": [
    "X['weather'] = X['weather'].map({'clear': 0, 'foggy': 1, 'rainy':2})"
   ]
  },
  {
   "cell_type": "code",
   "execution_count": 28,
   "id": "380a1889",
   "metadata": {
    "execution": {
     "iopub.execute_input": "2025-10-24T19:49:33.138112Z",
     "iopub.status.busy": "2025-10-24T19:49:33.137799Z",
     "iopub.status.idle": "2025-10-24T19:49:33.145913Z",
     "shell.execute_reply": "2025-10-24T19:49:33.144913Z"
    },
    "papermill": {
     "duration": 0.032957,
     "end_time": "2025-10-24T19:49:33.147663",
     "exception": false,
     "start_time": "2025-10-24T19:49:33.114706",
     "status": "completed"
    },
    "tags": []
   },
   "outputs": [],
   "source": [
    "X['weather'] = X['weather'].astype(int)"
   ]
  },
  {
   "cell_type": "code",
   "execution_count": 29,
   "id": "726efb1e",
   "metadata": {
    "execution": {
     "iopub.execute_input": "2025-10-24T19:49:33.193716Z",
     "iopub.status.busy": "2025-10-24T19:49:33.193377Z",
     "iopub.status.idle": "2025-10-24T19:49:48.775002Z",
     "shell.execute_reply": "2025-10-24T19:49:48.774282Z"
    },
    "papermill": {
     "duration": 15.60732,
     "end_time": "2025-10-24T19:49:48.777310",
     "exception": false,
     "start_time": "2025-10-24T19:49:33.169990",
     "status": "completed"
    },
    "tags": []
   },
   "outputs": [
    {
     "name": "stdout",
     "output_type": "stream",
     "text": [
      "RMSE on 5 folds 0.056161835912086344\n"
     ]
    },
    {
     "data": {
      "text/html": [
       "<div>\n",
       "<style scoped>\n",
       "    .dataframe tbody tr th:only-of-type {\n",
       "        vertical-align: middle;\n",
       "    }\n",
       "\n",
       "    .dataframe tbody tr th {\n",
       "        vertical-align: top;\n",
       "    }\n",
       "\n",
       "    .dataframe thead th {\n",
       "        text-align: right;\n",
       "    }\n",
       "</style>\n",
       "<table border=\"1\" class=\"dataframe\">\n",
       "  <thead>\n",
       "    <tr style=\"text-align: right;\">\n",
       "      <th></th>\n",
       "      <th>experiment_name</th>\n",
       "      <th>0</th>\n",
       "      <th>1</th>\n",
       "      <th>2</th>\n",
       "      <th>3</th>\n",
       "      <th>4</th>\n",
       "      <th>mean</th>\n",
       "      <th>std</th>\n",
       "    </tr>\n",
       "  </thead>\n",
       "  <tbody>\n",
       "    <tr>\n",
       "      <th>0</th>\n",
       "      <td>Baseline</td>\n",
       "      <td>0.057434</td>\n",
       "      <td>0.055794</td>\n",
       "      <td>0.056358</td>\n",
       "      <td>0.056330</td>\n",
       "      <td>0.057250</td>\n",
       "      <td>0.056633</td>\n",
       "      <td>0.000688</td>\n",
       "    </tr>\n",
       "    <tr>\n",
       "      <th>1</th>\n",
       "      <td>id_drop</td>\n",
       "      <td>0.056413</td>\n",
       "      <td>0.055778</td>\n",
       "      <td>0.056384</td>\n",
       "      <td>0.056270</td>\n",
       "      <td>0.055961</td>\n",
       "      <td>0.056161</td>\n",
       "      <td>0.000279</td>\n",
       "    </tr>\n",
       "    <tr>\n",
       "      <th>2</th>\n",
       "      <td>num_lanes_to_category_copy</td>\n",
       "      <td>0.056380</td>\n",
       "      <td>0.055809</td>\n",
       "      <td>0.056369</td>\n",
       "      <td>0.056288</td>\n",
       "      <td>0.055974</td>\n",
       "      <td>0.056164</td>\n",
       "      <td>0.000258</td>\n",
       "    </tr>\n",
       "    <tr>\n",
       "      <th>3</th>\n",
       "      <td>weather_encoded_manual_int</td>\n",
       "      <td>0.056412</td>\n",
       "      <td>0.055784</td>\n",
       "      <td>0.056361</td>\n",
       "      <td>0.056268</td>\n",
       "      <td>0.055982</td>\n",
       "      <td>0.056161</td>\n",
       "      <td>0.000269</td>\n",
       "    </tr>\n",
       "  </tbody>\n",
       "</table>\n",
       "</div>"
      ],
      "text/plain": [
       "              experiment_name         0         1         2         3  \\\n",
       "0                    Baseline  0.057434  0.055794  0.056358  0.056330   \n",
       "1                     id_drop  0.056413  0.055778  0.056384  0.056270   \n",
       "2  num_lanes_to_category_copy  0.056380  0.055809  0.056369  0.056288   \n",
       "3  weather_encoded_manual_int  0.056412  0.055784  0.056361  0.056268   \n",
       "\n",
       "          4      mean       std  \n",
       "0  0.057250  0.056633  0.000688  \n",
       "1  0.055961  0.056161  0.000279  \n",
       "2  0.055974  0.056164  0.000258  \n",
       "3  0.055982  0.056161  0.000269  "
      ]
     },
     "execution_count": 29,
     "metadata": {},
     "output_type": "execute_result"
    }
   ],
   "source": [
    "Score = get_scored(X,y)\n",
    "Scoresy = save_score(Score, Scoresy, 'weather_encoded_manual_int')\n",
    "Scoresy.head()"
   ]
  },
  {
   "cell_type": "code",
   "execution_count": 30,
   "id": "803b60ee",
   "metadata": {
    "execution": {
     "iopub.execute_input": "2025-10-24T19:49:48.823580Z",
     "iopub.status.busy": "2025-10-24T19:49:48.822926Z",
     "iopub.status.idle": "2025-10-24T19:49:48.828657Z",
     "shell.execute_reply": "2025-10-24T19:49:48.827991Z"
    },
    "papermill": {
     "duration": 0.030453,
     "end_time": "2025-10-24T19:49:48.829913",
     "exception": false,
     "start_time": "2025-10-24T19:49:48.799460",
     "status": "completed"
    },
    "tags": []
   },
   "outputs": [],
   "source": [
    "X['lighting']=X['lighting'].map({'night':0, 'dim':1, 'daylight' : 2})\n"
   ]
  },
  {
   "cell_type": "code",
   "execution_count": 31,
   "id": "4f55b506",
   "metadata": {
    "execution": {
     "iopub.execute_input": "2025-10-24T19:49:48.875520Z",
     "iopub.status.busy": "2025-10-24T19:49:48.875072Z",
     "iopub.status.idle": "2025-10-24T19:49:48.882542Z",
     "shell.execute_reply": "2025-10-24T19:49:48.881627Z"
    },
    "papermill": {
     "duration": 0.032106,
     "end_time": "2025-10-24T19:49:48.884168",
     "exception": false,
     "start_time": "2025-10-24T19:49:48.852062",
     "status": "completed"
    },
    "tags": []
   },
   "outputs": [],
   "source": [
    "X['lighting'] = X['lighting'].astype(int)"
   ]
  },
  {
   "cell_type": "code",
   "execution_count": 32,
   "id": "ccebaf9f",
   "metadata": {
    "execution": {
     "iopub.execute_input": "2025-10-24T19:49:48.931149Z",
     "iopub.status.busy": "2025-10-24T19:49:48.930848Z",
     "iopub.status.idle": "2025-10-24T19:50:03.030405Z",
     "shell.execute_reply": "2025-10-24T19:50:03.029512Z"
    },
    "papermill": {
     "duration": 14.124783,
     "end_time": "2025-10-24T19:50:03.031849",
     "exception": false,
     "start_time": "2025-10-24T19:49:48.907066",
     "status": "completed"
    },
    "tags": []
   },
   "outputs": [
    {
     "name": "stdout",
     "output_type": "stream",
     "text": [
      "RMSE on 5 folds 0.05616494529806578\n"
     ]
    },
    {
     "data": {
      "text/html": [
       "<div>\n",
       "<style scoped>\n",
       "    .dataframe tbody tr th:only-of-type {\n",
       "        vertical-align: middle;\n",
       "    }\n",
       "\n",
       "    .dataframe tbody tr th {\n",
       "        vertical-align: top;\n",
       "    }\n",
       "\n",
       "    .dataframe thead th {\n",
       "        text-align: right;\n",
       "    }\n",
       "</style>\n",
       "<table border=\"1\" class=\"dataframe\">\n",
       "  <thead>\n",
       "    <tr style=\"text-align: right;\">\n",
       "      <th></th>\n",
       "      <th>experiment_name</th>\n",
       "      <th>0</th>\n",
       "      <th>1</th>\n",
       "      <th>2</th>\n",
       "      <th>3</th>\n",
       "      <th>4</th>\n",
       "      <th>mean</th>\n",
       "      <th>std</th>\n",
       "    </tr>\n",
       "  </thead>\n",
       "  <tbody>\n",
       "    <tr>\n",
       "      <th>0</th>\n",
       "      <td>Baseline</td>\n",
       "      <td>0.057434</td>\n",
       "      <td>0.055794</td>\n",
       "      <td>0.056358</td>\n",
       "      <td>0.056330</td>\n",
       "      <td>0.057250</td>\n",
       "      <td>0.056633</td>\n",
       "      <td>0.000688</td>\n",
       "    </tr>\n",
       "    <tr>\n",
       "      <th>1</th>\n",
       "      <td>id_drop</td>\n",
       "      <td>0.056413</td>\n",
       "      <td>0.055778</td>\n",
       "      <td>0.056384</td>\n",
       "      <td>0.056270</td>\n",
       "      <td>0.055961</td>\n",
       "      <td>0.056161</td>\n",
       "      <td>0.000279</td>\n",
       "    </tr>\n",
       "    <tr>\n",
       "      <th>2</th>\n",
       "      <td>num_lanes_to_category_copy</td>\n",
       "      <td>0.056380</td>\n",
       "      <td>0.055809</td>\n",
       "      <td>0.056369</td>\n",
       "      <td>0.056288</td>\n",
       "      <td>0.055974</td>\n",
       "      <td>0.056164</td>\n",
       "      <td>0.000258</td>\n",
       "    </tr>\n",
       "    <tr>\n",
       "      <th>3</th>\n",
       "      <td>weather_encoded_manual_int</td>\n",
       "      <td>0.056412</td>\n",
       "      <td>0.055784</td>\n",
       "      <td>0.056361</td>\n",
       "      <td>0.056268</td>\n",
       "      <td>0.055982</td>\n",
       "      <td>0.056161</td>\n",
       "      <td>0.000269</td>\n",
       "    </tr>\n",
       "    <tr>\n",
       "      <th>4</th>\n",
       "      <td>lighting_encoded_manual</td>\n",
       "      <td>0.056442</td>\n",
       "      <td>0.055795</td>\n",
       "      <td>0.056348</td>\n",
       "      <td>0.056253</td>\n",
       "      <td>0.055984</td>\n",
       "      <td>0.056164</td>\n",
       "      <td>0.000268</td>\n",
       "    </tr>\n",
       "  </tbody>\n",
       "</table>\n",
       "</div>"
      ],
      "text/plain": [
       "              experiment_name         0         1         2         3  \\\n",
       "0                    Baseline  0.057434  0.055794  0.056358  0.056330   \n",
       "1                     id_drop  0.056413  0.055778  0.056384  0.056270   \n",
       "2  num_lanes_to_category_copy  0.056380  0.055809  0.056369  0.056288   \n",
       "3  weather_encoded_manual_int  0.056412  0.055784  0.056361  0.056268   \n",
       "4     lighting_encoded_manual  0.056442  0.055795  0.056348  0.056253   \n",
       "\n",
       "          4      mean       std  \n",
       "0  0.057250  0.056633  0.000688  \n",
       "1  0.055961  0.056161  0.000279  \n",
       "2  0.055974  0.056164  0.000258  \n",
       "3  0.055982  0.056161  0.000269  \n",
       "4  0.055984  0.056164  0.000268  "
      ]
     },
     "execution_count": 32,
     "metadata": {},
     "output_type": "execute_result"
    }
   ],
   "source": [
    "Score = get_scored(X,y)\n",
    "Scoresy = save_score(Score, Scoresy, 'lighting_encoded_manual')\n",
    "Scoresy.head()"
   ]
  },
  {
   "cell_type": "code",
   "execution_count": 33,
   "id": "93036f65",
   "metadata": {
    "execution": {
     "iopub.execute_input": "2025-10-24T19:50:03.078786Z",
     "iopub.status.busy": "2025-10-24T19:50:03.078399Z",
     "iopub.status.idle": "2025-10-24T19:50:03.082840Z",
     "shell.execute_reply": "2025-10-24T19:50:03.081934Z"
    },
    "papermill": {
     "duration": 0.029602,
     "end_time": "2025-10-24T19:50:03.084215",
     "exception": false,
     "start_time": "2025-10-24T19:50:03.054613",
     "status": "completed"
    },
    "tags": []
   },
   "outputs": [],
   "source": [
    "bool_cats=['road_signs_present','public_road', 'holiday', 'school_season']"
   ]
  },
  {
   "cell_type": "code",
   "execution_count": 34,
   "id": "9c88a9f7",
   "metadata": {
    "execution": {
     "iopub.execute_input": "2025-10-24T19:50:03.131563Z",
     "iopub.status.busy": "2025-10-24T19:50:03.130837Z",
     "iopub.status.idle": "2025-10-24T19:50:03.144700Z",
     "shell.execute_reply": "2025-10-24T19:50:03.143632Z"
    },
    "papermill": {
     "duration": 0.039466,
     "end_time": "2025-10-24T19:50:03.146338",
     "exception": false,
     "start_time": "2025-10-24T19:50:03.106872",
     "status": "completed"
    },
    "tags": []
   },
   "outputs": [],
   "source": [
    "X[bool_cats] = X[bool_cats] .astype(int)"
   ]
  },
  {
   "cell_type": "code",
   "execution_count": 35,
   "id": "92c8f49f",
   "metadata": {
    "execution": {
     "iopub.execute_input": "2025-10-24T19:50:03.192897Z",
     "iopub.status.busy": "2025-10-24T19:50:03.192577Z",
     "iopub.status.idle": "2025-10-24T19:50:15.370288Z",
     "shell.execute_reply": "2025-10-24T19:50:15.369417Z"
    },
    "papermill": {
     "duration": 12.203,
     "end_time": "2025-10-24T19:50:15.371978",
     "exception": false,
     "start_time": "2025-10-24T19:50:03.168978",
     "status": "completed"
    },
    "tags": []
   },
   "outputs": [
    {
     "name": "stdout",
     "output_type": "stream",
     "text": [
      "RMSE on 5 folds 0.05616494529806578\n"
     ]
    },
    {
     "data": {
      "text/html": [
       "<div>\n",
       "<style scoped>\n",
       "    .dataframe tbody tr th:only-of-type {\n",
       "        vertical-align: middle;\n",
       "    }\n",
       "\n",
       "    .dataframe tbody tr th {\n",
       "        vertical-align: top;\n",
       "    }\n",
       "\n",
       "    .dataframe thead th {\n",
       "        text-align: right;\n",
       "    }\n",
       "</style>\n",
       "<table border=\"1\" class=\"dataframe\">\n",
       "  <thead>\n",
       "    <tr style=\"text-align: right;\">\n",
       "      <th></th>\n",
       "      <th>experiment_name</th>\n",
       "      <th>0</th>\n",
       "      <th>1</th>\n",
       "      <th>2</th>\n",
       "      <th>3</th>\n",
       "      <th>4</th>\n",
       "      <th>mean</th>\n",
       "      <th>std</th>\n",
       "    </tr>\n",
       "  </thead>\n",
       "  <tbody>\n",
       "    <tr>\n",
       "      <th>0</th>\n",
       "      <td>Baseline</td>\n",
       "      <td>0.057434</td>\n",
       "      <td>0.055794</td>\n",
       "      <td>0.056358</td>\n",
       "      <td>0.056330</td>\n",
       "      <td>0.057250</td>\n",
       "      <td>0.056633</td>\n",
       "      <td>0.000688</td>\n",
       "    </tr>\n",
       "    <tr>\n",
       "      <th>1</th>\n",
       "      <td>id_drop</td>\n",
       "      <td>0.056413</td>\n",
       "      <td>0.055778</td>\n",
       "      <td>0.056384</td>\n",
       "      <td>0.056270</td>\n",
       "      <td>0.055961</td>\n",
       "      <td>0.056161</td>\n",
       "      <td>0.000279</td>\n",
       "    </tr>\n",
       "    <tr>\n",
       "      <th>2</th>\n",
       "      <td>num_lanes_to_category_copy</td>\n",
       "      <td>0.056380</td>\n",
       "      <td>0.055809</td>\n",
       "      <td>0.056369</td>\n",
       "      <td>0.056288</td>\n",
       "      <td>0.055974</td>\n",
       "      <td>0.056164</td>\n",
       "      <td>0.000258</td>\n",
       "    </tr>\n",
       "    <tr>\n",
       "      <th>3</th>\n",
       "      <td>weather_encoded_manual_int</td>\n",
       "      <td>0.056412</td>\n",
       "      <td>0.055784</td>\n",
       "      <td>0.056361</td>\n",
       "      <td>0.056268</td>\n",
       "      <td>0.055982</td>\n",
       "      <td>0.056161</td>\n",
       "      <td>0.000269</td>\n",
       "    </tr>\n",
       "    <tr>\n",
       "      <th>4</th>\n",
       "      <td>lighting_encoded_manual</td>\n",
       "      <td>0.056442</td>\n",
       "      <td>0.055795</td>\n",
       "      <td>0.056348</td>\n",
       "      <td>0.056253</td>\n",
       "      <td>0.055984</td>\n",
       "      <td>0.056164</td>\n",
       "      <td>0.000268</td>\n",
       "    </tr>\n",
       "    <tr>\n",
       "      <th>5</th>\n",
       "      <td>bool_cats_to_int_exp</td>\n",
       "      <td>0.056442</td>\n",
       "      <td>0.055795</td>\n",
       "      <td>0.056348</td>\n",
       "      <td>0.056253</td>\n",
       "      <td>0.055984</td>\n",
       "      <td>0.056164</td>\n",
       "      <td>0.000268</td>\n",
       "    </tr>\n",
       "  </tbody>\n",
       "</table>\n",
       "</div>"
      ],
      "text/plain": [
       "              experiment_name         0         1         2         3  \\\n",
       "0                    Baseline  0.057434  0.055794  0.056358  0.056330   \n",
       "1                     id_drop  0.056413  0.055778  0.056384  0.056270   \n",
       "2  num_lanes_to_category_copy  0.056380  0.055809  0.056369  0.056288   \n",
       "3  weather_encoded_manual_int  0.056412  0.055784  0.056361  0.056268   \n",
       "4     lighting_encoded_manual  0.056442  0.055795  0.056348  0.056253   \n",
       "5        bool_cats_to_int_exp  0.056442  0.055795  0.056348  0.056253   \n",
       "\n",
       "          4      mean       std  \n",
       "0  0.057250  0.056633  0.000688  \n",
       "1  0.055961  0.056161  0.000279  \n",
       "2  0.055974  0.056164  0.000258  \n",
       "3  0.055982  0.056161  0.000269  \n",
       "4  0.055984  0.056164  0.000268  \n",
       "5  0.055984  0.056164  0.000268  "
      ]
     },
     "execution_count": 35,
     "metadata": {},
     "output_type": "execute_result"
    }
   ],
   "source": [
    "Score = get_scored(X,y)\n",
    "Scoresy = save_score(Score, Scoresy, 'bool_cats_to_int_exp')\n",
    "Scoresy.head(10)"
   ]
  },
  {
   "cell_type": "markdown",
   "id": "ed014967",
   "metadata": {
    "papermill": {
     "duration": 0.02244,
     "end_time": "2025-10-24T19:50:15.417258",
     "exception": false,
     "start_time": "2025-10-24T19:50:15.394818",
     "status": "completed"
    },
    "tags": []
   },
   "source": [
    "# OHEncoding pass for now!\n",
    "Result is worse then just droping 'id' column"
   ]
  },
  {
   "cell_type": "code",
   "execution_count": 36,
   "id": "50044035",
   "metadata": {
    "execution": {
     "iopub.execute_input": "2025-10-24T19:50:15.464311Z",
     "iopub.status.busy": "2025-10-24T19:50:15.463909Z",
     "iopub.status.idle": "2025-10-24T19:50:15.467969Z",
     "shell.execute_reply": "2025-10-24T19:50:15.467023Z"
    },
    "papermill": {
     "duration": 0.029294,
     "end_time": "2025-10-24T19:50:15.469425",
     "exception": false,
     "start_time": "2025-10-24T19:50:15.440131",
     "status": "completed"
    },
    "tags": []
   },
   "outputs": [],
   "source": [
    "# cats_to_one_hot = ['road_type', 'speed_limit', 'lighting', 'weather', 'time_of_day']"
   ]
  },
  {
   "cell_type": "code",
   "execution_count": 37,
   "id": "9065a651",
   "metadata": {
    "execution": {
     "iopub.execute_input": "2025-10-24T19:50:15.516837Z",
     "iopub.status.busy": "2025-10-24T19:50:15.516539Z",
     "iopub.status.idle": "2025-10-24T19:50:15.520317Z",
     "shell.execute_reply": "2025-10-24T19:50:15.519652Z"
    },
    "papermill": {
     "duration": 0.029553,
     "end_time": "2025-10-24T19:50:15.521752",
     "exception": false,
     "start_time": "2025-10-24T19:50:15.492199",
     "status": "completed"
    },
    "tags": []
   },
   "outputs": [],
   "source": [
    "# from sklearn.preprocessing import OneHotEncoder\n",
    "# OHE = OneHotEncoder(sparse_output=False)\n",
    "# ohe_encoded = OHE.fit_transform(X[cats_to_one_hot])"
   ]
  },
  {
   "cell_type": "code",
   "execution_count": 38,
   "id": "9f75525f",
   "metadata": {
    "execution": {
     "iopub.execute_input": "2025-10-24T19:50:15.569014Z",
     "iopub.status.busy": "2025-10-24T19:50:15.568703Z",
     "iopub.status.idle": "2025-10-24T19:50:15.572820Z",
     "shell.execute_reply": "2025-10-24T19:50:15.571868Z"
    },
    "papermill": {
     "duration": 0.029655,
     "end_time": "2025-10-24T19:50:15.574372",
     "exception": false,
     "start_time": "2025-10-24T19:50:15.544717",
     "status": "completed"
    },
    "tags": []
   },
   "outputs": [],
   "source": [
    "# ohe_encoded"
   ]
  },
  {
   "cell_type": "code",
   "execution_count": 39,
   "id": "d2fd490e",
   "metadata": {
    "execution": {
     "iopub.execute_input": "2025-10-24T19:50:15.621557Z",
     "iopub.status.busy": "2025-10-24T19:50:15.621209Z",
     "iopub.status.idle": "2025-10-24T19:50:15.625357Z",
     "shell.execute_reply": "2025-10-24T19:50:15.624620Z"
    },
    "papermill": {
     "duration": 0.029519,
     "end_time": "2025-10-24T19:50:15.626782",
     "exception": false,
     "start_time": "2025-10-24T19:50:15.597263",
     "status": "completed"
    },
    "tags": []
   },
   "outputs": [],
   "source": [
    "# X_ohe = pd.DataFrame(\n",
    "#     ohe_encoded,\n",
    "#     columns=OHE.get_feature_names_out(cats_to_one_hot),\n",
    "#     index=X.index\n",
    "# )\n"
   ]
  },
  {
   "cell_type": "markdown",
   "id": "8c21bfe0",
   "metadata": {
    "papermill": {
     "duration": 0.022686,
     "end_time": "2025-10-24T19:50:15.672900",
     "exception": false,
     "start_time": "2025-10-24T19:50:15.650214",
     "status": "completed"
    },
    "tags": []
   },
   "source": [
    "I found if to drop 'ID' column - it's perorming beter, its kind of proof that unnessasery noise can make model worse"
   ]
  },
  {
   "cell_type": "code",
   "execution_count": 40,
   "id": "2df17a79",
   "metadata": {
    "execution": {
     "iopub.execute_input": "2025-10-24T19:50:15.721054Z",
     "iopub.status.busy": "2025-10-24T19:50:15.720741Z",
     "iopub.status.idle": "2025-10-24T19:50:15.724959Z",
     "shell.execute_reply": "2025-10-24T19:50:15.724151Z"
    },
    "papermill": {
     "duration": 0.030825,
     "end_time": "2025-10-24T19:50:15.726340",
     "exception": false,
     "start_time": "2025-10-24T19:50:15.695515",
     "status": "completed"
    },
    "tags": []
   },
   "outputs": [],
   "source": [
    "pd.set_option('display.max_columns', None)\n",
    "# X.head()"
   ]
  },
  {
   "cell_type": "markdown",
   "id": "f16e9f79",
   "metadata": {
    "papermill": {
     "duration": 0.022291,
     "end_time": "2025-10-24T19:50:15.772219",
     "exception": false,
     "start_time": "2025-10-24T19:50:15.749928",
     "status": "completed"
    },
    "tags": []
   },
   "source": [
    "### For loop to figure out witch feature is kind of toxic, passing, couse already figured it out, and comuting it really really time consumpting"
   ]
  },
  {
   "cell_type": "code",
   "execution_count": 41,
   "id": "cf931201",
   "metadata": {
    "execution": {
     "iopub.execute_input": "2025-10-24T19:50:15.820358Z",
     "iopub.status.busy": "2025-10-24T19:50:15.820031Z",
     "iopub.status.idle": "2025-10-24T19:50:15.824026Z",
     "shell.execute_reply": "2025-10-24T19:50:15.823277Z"
    },
    "papermill": {
     "duration": 0.030627,
     "end_time": "2025-10-24T19:50:15.825350",
     "exception": false,
     "start_time": "2025-10-24T19:50:15.794723",
     "status": "completed"
    },
    "tags": []
   },
   "outputs": [],
   "source": [
    "# X = X.join(X_ohe).drop(columns =  cats_to_one_hot)"
   ]
  },
  {
   "cell_type": "code",
   "execution_count": 42,
   "id": "7516ab41",
   "metadata": {
    "execution": {
     "iopub.execute_input": "2025-10-24T19:50:15.872135Z",
     "iopub.status.busy": "2025-10-24T19:50:15.871772Z",
     "iopub.status.idle": "2025-10-24T19:50:15.875871Z",
     "shell.execute_reply": "2025-10-24T19:50:15.874923Z"
    },
    "papermill": {
     "duration": 0.02904,
     "end_time": "2025-10-24T19:50:15.877357",
     "exception": false,
     "start_time": "2025-10-24T19:50:15.848317",
     "status": "completed"
    },
    "tags": []
   },
   "outputs": [],
   "source": [
    "# Score = get_scored(X,y)\n",
    "# Scoresy = save_score(Score, Scoresy, 'one_hot_some_of_them')\n",
    "# Scoresy.head(20)"
   ]
  },
  {
   "cell_type": "markdown",
   "id": "48ee1e10",
   "metadata": {
    "papermill": {
     "duration": 0.022588,
     "end_time": "2025-10-24T19:50:15.923329",
     "exception": false,
     "start_time": "2025-10-24T19:50:15.900741",
     "status": "completed"
    },
    "tags": []
   },
   "source": [
    "## Drop out feature experiment"
   ]
  },
  {
   "cell_type": "code",
   "execution_count": 43,
   "id": "20e5f16e",
   "metadata": {
    "execution": {
     "iopub.execute_input": "2025-10-24T19:50:15.970739Z",
     "iopub.status.busy": "2025-10-24T19:50:15.969934Z",
     "iopub.status.idle": "2025-10-24T19:50:15.974039Z",
     "shell.execute_reply": "2025-10-24T19:50:15.973148Z"
    },
    "papermill": {
     "duration": 0.029347,
     "end_time": "2025-10-24T19:50:15.975501",
     "exception": false,
     "start_time": "2025-10-24T19:50:15.946154",
     "status": "completed"
    },
    "tags": []
   },
   "outputs": [],
   "source": [
    "# for f in X.columns:\n",
    "#     X_reduced = X.copy()\n",
    "#     X_reduced.pop(f)\n",
    "#     Score = get_scored(X_reduced,y)\n",
    "#     Scoresy = save_score(Score, Scoresy, f'poped_{f}')"
   ]
  },
  {
   "cell_type": "code",
   "execution_count": 44,
   "id": "737d874d",
   "metadata": {
    "execution": {
     "iopub.execute_input": "2025-10-24T19:50:16.022727Z",
     "iopub.status.busy": "2025-10-24T19:50:16.022373Z",
     "iopub.status.idle": "2025-10-24T19:50:16.026315Z",
     "shell.execute_reply": "2025-10-24T19:50:16.025409Z"
    },
    "papermill": {
     "duration": 0.029624,
     "end_time": "2025-10-24T19:50:16.027857",
     "exception": false,
     "start_time": "2025-10-24T19:50:15.998233",
     "status": "completed"
    },
    "tags": []
   },
   "outputs": [],
   "source": [
    "# X.columns"
   ]
  },
  {
   "cell_type": "code",
   "execution_count": 45,
   "id": "6c9da1ea",
   "metadata": {
    "execution": {
     "iopub.execute_input": "2025-10-24T19:50:16.074765Z",
     "iopub.status.busy": "2025-10-24T19:50:16.074466Z",
     "iopub.status.idle": "2025-10-24T19:50:16.078443Z",
     "shell.execute_reply": "2025-10-24T19:50:16.077695Z"
    },
    "papermill": {
     "duration": 0.029133,
     "end_time": "2025-10-24T19:50:16.079852",
     "exception": false,
     "start_time": "2025-10-24T19:50:16.050719",
     "status": "completed"
    },
    "tags": []
   },
   "outputs": [],
   "source": [
    "# Scoresy.head(20).sort_values(by='mean')"
   ]
  },
  {
   "cell_type": "markdown",
   "id": "33f855c9",
   "metadata": {
    "papermill": {
     "duration": 0.022615,
     "end_time": "2025-10-24T19:50:16.125390",
     "exception": false,
     "start_time": "2025-10-24T19:50:16.102775",
     "status": "completed"
    },
    "tags": []
   },
   "source": [
    "## Strange observation:\n",
    "16\tpoped_school_season\t            0.056153\t0.000267\\\n",
    "18\tpoped_num_lanes_cat\t            0.056155\t0.000266\\\n",
    "3\tweather_encoded_manual_int\t\t0.056161\t0.000269\\\n",
    "1\tid_drop\t                     \t0.056161\t0.000279\\\n",
    "\n",
    "So i delete ine by one and checked with OOB XGBRegegressor, so what I found: maybe school season is not good, but i dont get the reason, maybe more clever model can grab it? Still the differance is tiny, so i will leave it as is"
   ]
  },
  {
   "cell_type": "markdown",
   "id": "bc6f79a4",
   "metadata": {
    "papermill": {
     "duration": 0.022477,
     "end_time": "2025-10-24T19:50:16.171366",
     "exception": false,
     "start_time": "2025-10-24T19:50:16.148889",
     "status": "completed"
    },
    "tags": []
   },
   "source": [
    "So just poping 'id'"
   ]
  },
  {
   "cell_type": "markdown",
   "id": "d42109e0",
   "metadata": {
    "papermill": {
     "duration": 0.022565,
     "end_time": "2025-10-24T19:50:16.217381",
     "exception": false,
     "start_time": "2025-10-24T19:50:16.194816",
     "status": "completed"
    },
    "tags": []
   },
   "source": [
    "## Ok let's try the TARGET ENCODING technique from 'feature engineering' Kaggle mini-course"
   ]
  },
  {
   "cell_type": "code",
   "execution_count": 46,
   "id": "7ec5cf21",
   "metadata": {
    "execution": {
     "iopub.execute_input": "2025-10-24T19:50:16.264073Z",
     "iopub.status.busy": "2025-10-24T19:50:16.263768Z",
     "iopub.status.idle": "2025-10-24T19:50:16.267453Z",
     "shell.execute_reply": "2025-10-24T19:50:16.266757Z"
    },
    "papermill": {
     "duration": 0.028875,
     "end_time": "2025-10-24T19:50:16.268933",
     "exception": false,
     "start_time": "2025-10-24T19:50:16.240058",
     "status": "completed"
    },
    "tags": []
   },
   "outputs": [],
   "source": [
    "# from category_encoders import MEstimateEncoder"
   ]
  },
  {
   "cell_type": "code",
   "execution_count": 47,
   "id": "02a3366f",
   "metadata": {
    "execution": {
     "iopub.execute_input": "2025-10-24T19:50:16.316319Z",
     "iopub.status.busy": "2025-10-24T19:50:16.316005Z",
     "iopub.status.idle": "2025-10-24T19:50:16.320266Z",
     "shell.execute_reply": "2025-10-24T19:50:16.319259Z"
    },
    "papermill": {
     "duration": 0.029399,
     "end_time": "2025-10-24T19:50:16.321667",
     "exception": false,
     "start_time": "2025-10-24T19:50:16.292268",
     "status": "completed"
    },
    "tags": []
   },
   "outputs": [],
   "source": [
    "# X.num_lanes.value_counts()"
   ]
  },
  {
   "cell_type": "markdown",
   "id": "9d216f16",
   "metadata": {
    "papermill": {
     "duration": 0.023169,
     "end_time": "2025-10-24T19:50:16.368198",
     "exception": false,
     "start_time": "2025-10-24T19:50:16.345029",
     "status": "completed"
    },
    "tags": []
   },
   "source": []
  },
  {
   "cell_type": "code",
   "execution_count": 48,
   "id": "2752dd61",
   "metadata": {
    "execution": {
     "iopub.execute_input": "2025-10-24T19:50:16.415796Z",
     "iopub.status.busy": "2025-10-24T19:50:16.415382Z",
     "iopub.status.idle": "2025-10-24T19:50:16.419405Z",
     "shell.execute_reply": "2025-10-24T19:50:16.418607Z"
    },
    "papermill": {
     "duration": 0.029667,
     "end_time": "2025-10-24T19:50:16.421162",
     "exception": false,
     "start_time": "2025-10-24T19:50:16.391495",
     "status": "completed"
    },
    "tags": []
   },
   "outputs": [],
   "source": [
    "# # Encoding split\n",
    "# X_y_full = X.join(y)\n",
    "# X_encode = X_y_full.sample(frac=0.20, random_state=0)\n",
    "# y_encode = X_encode.pop(\"accident_risk\")\n",
    "\n",
    "# # Training split\n",
    "# X_pretrain = X_y_full.drop(X_encode.index)\n",
    "# y_train = X_pretrain.pop(\"accident_risk\")"
   ]
  },
  {
   "cell_type": "code",
   "execution_count": 49,
   "id": "f9db0463",
   "metadata": {
    "execution": {
     "iopub.execute_input": "2025-10-24T19:50:16.470540Z",
     "iopub.status.busy": "2025-10-24T19:50:16.470185Z",
     "iopub.status.idle": "2025-10-24T19:50:16.474375Z",
     "shell.execute_reply": "2025-10-24T19:50:16.473619Z"
    },
    "papermill": {
     "duration": 0.031795,
     "end_time": "2025-10-24T19:50:16.475947",
     "exception": false,
     "start_time": "2025-10-24T19:50:16.444152",
     "status": "completed"
    },
    "tags": []
   },
   "outputs": [],
   "source": [
    "# # Choose a set of features to encode and a value for m\n",
    "# # encoder = MEstimateEncoder(cols = ['road_type', 'lighting', 'weather', 'curvature', 'speed_limit'], m=20)\n",
    "# encoder = MEstimateEncoder(cols = ['lanes_speed_lightning_feature'], m=20)\n",
    "\n",
    "# # Fit the encoder on the encoding split\n",
    "# encoder.fit(X_encode, y_encode)\n",
    "\n",
    "# # Encode the training split\n",
    "# X_train = encoder.transform(X_pretrain, y_train)"
   ]
  },
  {
   "cell_type": "code",
   "execution_count": 50,
   "id": "36aa32ec",
   "metadata": {
    "execution": {
     "iopub.execute_input": "2025-10-24T19:50:16.523575Z",
     "iopub.status.busy": "2025-10-24T19:50:16.523254Z",
     "iopub.status.idle": "2025-10-24T19:50:16.527109Z",
     "shell.execute_reply": "2025-10-24T19:50:16.526363Z"
    },
    "papermill": {
     "duration": 0.029375,
     "end_time": "2025-10-24T19:50:16.528526",
     "exception": false,
     "start_time": "2025-10-24T19:50:16.499151",
     "status": "completed"
    },
    "tags": []
   },
   "outputs": [],
   "source": [
    "# Score = get_scored(X_train,y_train)\n",
    "# Scoresy = save_score(Score, Scoresy, 'target_encoded')\n",
    "# Scoresy.head(20)"
   ]
  },
  {
   "cell_type": "markdown",
   "id": "80c995fe",
   "metadata": {
    "execution": {
     "iopub.execute_input": "2025-10-17T17:57:13.065949Z",
     "iopub.status.busy": "2025-10-17T17:57:13.065477Z",
     "iopub.status.idle": "2025-10-17T17:57:13.070317Z",
     "shell.execute_reply": "2025-10-17T17:57:13.069145Z",
     "shell.execute_reply.started": "2025-10-17T17:57:13.065922Z"
    },
    "papermill": {
     "duration": 0.022677,
     "end_time": "2025-10-24T19:50:16.574692",
     "exception": false,
     "start_time": "2025-10-24T19:50:16.552015",
     "status": "completed"
    },
    "tags": []
   },
   "source": [
    "## Ok its going to be worse and worse\n",
    "## So im going to create complex cat features by merging few"
   ]
  },
  {
   "cell_type": "code",
   "execution_count": 51,
   "id": "5739e319",
   "metadata": {
    "execution": {
     "iopub.execute_input": "2025-10-24T19:50:16.621958Z",
     "iopub.status.busy": "2025-10-24T19:50:16.621664Z",
     "iopub.status.idle": "2025-10-24T19:50:16.637336Z",
     "shell.execute_reply": "2025-10-24T19:50:16.636392Z"
    },
    "papermill": {
     "duration": 0.041354,
     "end_time": "2025-10-24T19:50:16.638857",
     "exception": false,
     "start_time": "2025-10-24T19:50:16.597503",
     "status": "completed"
    },
    "tags": []
   },
   "outputs": [
    {
     "data": {
      "text/html": [
       "<div>\n",
       "<style scoped>\n",
       "    .dataframe tbody tr th:only-of-type {\n",
       "        vertical-align: middle;\n",
       "    }\n",
       "\n",
       "    .dataframe tbody tr th {\n",
       "        vertical-align: top;\n",
       "    }\n",
       "\n",
       "    .dataframe thead th {\n",
       "        text-align: right;\n",
       "    }\n",
       "</style>\n",
       "<table border=\"1\" class=\"dataframe\">\n",
       "  <thead>\n",
       "    <tr style=\"text-align: right;\">\n",
       "      <th></th>\n",
       "      <th>road_type</th>\n",
       "      <th>num_lanes</th>\n",
       "      <th>curvature</th>\n",
       "      <th>speed_limit</th>\n",
       "      <th>lighting</th>\n",
       "      <th>weather</th>\n",
       "      <th>road_signs_present</th>\n",
       "      <th>public_road</th>\n",
       "      <th>time_of_day</th>\n",
       "      <th>holiday</th>\n",
       "      <th>school_season</th>\n",
       "      <th>num_reported_accidents</th>\n",
       "      <th>num_lanes_cat</th>\n",
       "    </tr>\n",
       "  </thead>\n",
       "  <tbody>\n",
       "    <tr>\n",
       "      <th>0</th>\n",
       "      <td>urban</td>\n",
       "      <td>2</td>\n",
       "      <td>0.06</td>\n",
       "      <td>35</td>\n",
       "      <td>2</td>\n",
       "      <td>2</td>\n",
       "      <td>0</td>\n",
       "      <td>1</td>\n",
       "      <td>afternoon</td>\n",
       "      <td>0</td>\n",
       "      <td>1</td>\n",
       "      <td>1</td>\n",
       "      <td>2</td>\n",
       "    </tr>\n",
       "    <tr>\n",
       "      <th>1</th>\n",
       "      <td>urban</td>\n",
       "      <td>4</td>\n",
       "      <td>0.99</td>\n",
       "      <td>35</td>\n",
       "      <td>2</td>\n",
       "      <td>0</td>\n",
       "      <td>1</td>\n",
       "      <td>0</td>\n",
       "      <td>evening</td>\n",
       "      <td>1</td>\n",
       "      <td>1</td>\n",
       "      <td>0</td>\n",
       "      <td>4</td>\n",
       "    </tr>\n",
       "    <tr>\n",
       "      <th>2</th>\n",
       "      <td>rural</td>\n",
       "      <td>4</td>\n",
       "      <td>0.63</td>\n",
       "      <td>70</td>\n",
       "      <td>1</td>\n",
       "      <td>0</td>\n",
       "      <td>0</td>\n",
       "      <td>1</td>\n",
       "      <td>morning</td>\n",
       "      <td>1</td>\n",
       "      <td>0</td>\n",
       "      <td>2</td>\n",
       "      <td>4</td>\n",
       "    </tr>\n",
       "    <tr>\n",
       "      <th>3</th>\n",
       "      <td>highway</td>\n",
       "      <td>4</td>\n",
       "      <td>0.07</td>\n",
       "      <td>35</td>\n",
       "      <td>1</td>\n",
       "      <td>2</td>\n",
       "      <td>1</td>\n",
       "      <td>1</td>\n",
       "      <td>morning</td>\n",
       "      <td>0</td>\n",
       "      <td>0</td>\n",
       "      <td>1</td>\n",
       "      <td>4</td>\n",
       "    </tr>\n",
       "    <tr>\n",
       "      <th>4</th>\n",
       "      <td>rural</td>\n",
       "      <td>1</td>\n",
       "      <td>0.58</td>\n",
       "      <td>60</td>\n",
       "      <td>2</td>\n",
       "      <td>1</td>\n",
       "      <td>0</td>\n",
       "      <td>0</td>\n",
       "      <td>evening</td>\n",
       "      <td>1</td>\n",
       "      <td>0</td>\n",
       "      <td>1</td>\n",
       "      <td>1</td>\n",
       "    </tr>\n",
       "    <tr>\n",
       "      <th>...</th>\n",
       "      <td>...</td>\n",
       "      <td>...</td>\n",
       "      <td>...</td>\n",
       "      <td>...</td>\n",
       "      <td>...</td>\n",
       "      <td>...</td>\n",
       "      <td>...</td>\n",
       "      <td>...</td>\n",
       "      <td>...</td>\n",
       "      <td>...</td>\n",
       "      <td>...</td>\n",
       "      <td>...</td>\n",
       "      <td>...</td>\n",
       "    </tr>\n",
       "    <tr>\n",
       "      <th>517749</th>\n",
       "      <td>highway</td>\n",
       "      <td>4</td>\n",
       "      <td>0.10</td>\n",
       "      <td>70</td>\n",
       "      <td>2</td>\n",
       "      <td>1</td>\n",
       "      <td>1</td>\n",
       "      <td>1</td>\n",
       "      <td>afternoon</td>\n",
       "      <td>0</td>\n",
       "      <td>0</td>\n",
       "      <td>2</td>\n",
       "      <td>4</td>\n",
       "    </tr>\n",
       "    <tr>\n",
       "      <th>517750</th>\n",
       "      <td>rural</td>\n",
       "      <td>4</td>\n",
       "      <td>0.47</td>\n",
       "      <td>35</td>\n",
       "      <td>2</td>\n",
       "      <td>2</td>\n",
       "      <td>1</td>\n",
       "      <td>1</td>\n",
       "      <td>morning</td>\n",
       "      <td>0</td>\n",
       "      <td>0</td>\n",
       "      <td>1</td>\n",
       "      <td>4</td>\n",
       "    </tr>\n",
       "    <tr>\n",
       "      <th>517751</th>\n",
       "      <td>urban</td>\n",
       "      <td>4</td>\n",
       "      <td>0.62</td>\n",
       "      <td>25</td>\n",
       "      <td>2</td>\n",
       "      <td>1</td>\n",
       "      <td>0</td>\n",
       "      <td>0</td>\n",
       "      <td>afternoon</td>\n",
       "      <td>0</td>\n",
       "      <td>1</td>\n",
       "      <td>0</td>\n",
       "      <td>4</td>\n",
       "    </tr>\n",
       "    <tr>\n",
       "      <th>517752</th>\n",
       "      <td>highway</td>\n",
       "      <td>3</td>\n",
       "      <td>0.63</td>\n",
       "      <td>25</td>\n",
       "      <td>0</td>\n",
       "      <td>0</td>\n",
       "      <td>1</td>\n",
       "      <td>0</td>\n",
       "      <td>afternoon</td>\n",
       "      <td>1</td>\n",
       "      <td>1</td>\n",
       "      <td>3</td>\n",
       "      <td>3</td>\n",
       "    </tr>\n",
       "    <tr>\n",
       "      <th>517753</th>\n",
       "      <td>highway</td>\n",
       "      <td>2</td>\n",
       "      <td>0.31</td>\n",
       "      <td>45</td>\n",
       "      <td>1</td>\n",
       "      <td>2</td>\n",
       "      <td>0</td>\n",
       "      <td>1</td>\n",
       "      <td>afternoon</td>\n",
       "      <td>1</td>\n",
       "      <td>1</td>\n",
       "      <td>2</td>\n",
       "      <td>2</td>\n",
       "    </tr>\n",
       "  </tbody>\n",
       "</table>\n",
       "<p>517754 rows × 13 columns</p>\n",
       "</div>"
      ],
      "text/plain": [
       "       road_type  num_lanes  curvature  speed_limit  lighting  weather  \\\n",
       "0          urban          2       0.06           35         2        2   \n",
       "1          urban          4       0.99           35         2        0   \n",
       "2          rural          4       0.63           70         1        0   \n",
       "3        highway          4       0.07           35         1        2   \n",
       "4          rural          1       0.58           60         2        1   \n",
       "...          ...        ...        ...          ...       ...      ...   \n",
       "517749   highway          4       0.10           70         2        1   \n",
       "517750     rural          4       0.47           35         2        2   \n",
       "517751     urban          4       0.62           25         2        1   \n",
       "517752   highway          3       0.63           25         0        0   \n",
       "517753   highway          2       0.31           45         1        2   \n",
       "\n",
       "        road_signs_present  public_road time_of_day  holiday  school_season  \\\n",
       "0                        0            1   afternoon        0              1   \n",
       "1                        1            0     evening        1              1   \n",
       "2                        0            1     morning        1              0   \n",
       "3                        1            1     morning        0              0   \n",
       "4                        0            0     evening        1              0   \n",
       "...                    ...          ...         ...      ...            ...   \n",
       "517749                   1            1   afternoon        0              0   \n",
       "517750                   1            1     morning        0              0   \n",
       "517751                   0            0   afternoon        0              1   \n",
       "517752                   1            0   afternoon        1              1   \n",
       "517753                   0            1   afternoon        1              1   \n",
       "\n",
       "        num_reported_accidents num_lanes_cat  \n",
       "0                            1             2  \n",
       "1                            0             4  \n",
       "2                            2             4  \n",
       "3                            1             4  \n",
       "4                            1             1  \n",
       "...                        ...           ...  \n",
       "517749                       2             4  \n",
       "517750                       1             4  \n",
       "517751                       0             4  \n",
       "517752                       3             3  \n",
       "517753                       2             2  \n",
       "\n",
       "[517754 rows x 13 columns]"
      ]
     },
     "execution_count": 51,
     "metadata": {},
     "output_type": "execute_result"
    }
   ],
   "source": [
    "X"
   ]
  },
  {
   "cell_type": "code",
   "execution_count": 52,
   "id": "8e64562a",
   "metadata": {
    "execution": {
     "iopub.execute_input": "2025-10-24T19:50:16.686582Z",
     "iopub.status.busy": "2025-10-24T19:50:16.686255Z",
     "iopub.status.idle": "2025-10-24T19:50:17.273875Z",
     "shell.execute_reply": "2025-10-24T19:50:17.272889Z"
    },
    "papermill": {
     "duration": 0.613355,
     "end_time": "2025-10-24T19:50:17.275622",
     "exception": false,
     "start_time": "2025-10-24T19:50:16.662267",
     "status": "completed"
    },
    "tags": []
   },
   "outputs": [],
   "source": [
    "X['lanes_speed_lightning_feature']=(\n",
    "    X['num_lanes'].astype(str) + '_' +\n",
    "    X['speed_limit'].astype(str)  + '_' + \n",
    "    X['lighting'].astype(str)\n",
    ")"
   ]
  },
  {
   "cell_type": "code",
   "execution_count": 53,
   "id": "72e817c9",
   "metadata": {
    "execution": {
     "iopub.execute_input": "2025-10-24T19:50:17.324557Z",
     "iopub.status.busy": "2025-10-24T19:50:17.324210Z",
     "iopub.status.idle": "2025-10-24T19:50:17.370640Z",
     "shell.execute_reply": "2025-10-24T19:50:17.369494Z"
    },
    "papermill": {
     "duration": 0.073299,
     "end_time": "2025-10-24T19:50:17.372302",
     "exception": false,
     "start_time": "2025-10-24T19:50:17.299003",
     "status": "completed"
    },
    "tags": []
   },
   "outputs": [],
   "source": [
    "X['lanes_speed_lightning_feature'] = X['lanes_speed_lightning_feature'].astype('category')"
   ]
  },
  {
   "cell_type": "code",
   "execution_count": 54,
   "id": "2293c5ab",
   "metadata": {
    "execution": {
     "iopub.execute_input": "2025-10-24T19:50:17.420325Z",
     "iopub.status.busy": "2025-10-24T19:50:17.420006Z",
     "iopub.status.idle": "2025-10-24T19:50:35.489624Z",
     "shell.execute_reply": "2025-10-24T19:50:35.488743Z"
    },
    "papermill": {
     "duration": 18.095495,
     "end_time": "2025-10-24T19:50:35.491713",
     "exception": false,
     "start_time": "2025-10-24T19:50:17.396218",
     "status": "completed"
    },
    "tags": []
   },
   "outputs": [
    {
     "name": "stdout",
     "output_type": "stream",
     "text": [
      "RMSE on 5 folds 0.056323136312542696\n"
     ]
    },
    {
     "data": {
      "text/html": [
       "<div>\n",
       "<style scoped>\n",
       "    .dataframe tbody tr th:only-of-type {\n",
       "        vertical-align: middle;\n",
       "    }\n",
       "\n",
       "    .dataframe tbody tr th {\n",
       "        vertical-align: top;\n",
       "    }\n",
       "\n",
       "    .dataframe thead th {\n",
       "        text-align: right;\n",
       "    }\n",
       "</style>\n",
       "<table border=\"1\" class=\"dataframe\">\n",
       "  <thead>\n",
       "    <tr style=\"text-align: right;\">\n",
       "      <th></th>\n",
       "      <th>experiment_name</th>\n",
       "      <th>0</th>\n",
       "      <th>1</th>\n",
       "      <th>2</th>\n",
       "      <th>3</th>\n",
       "      <th>4</th>\n",
       "      <th>mean</th>\n",
       "      <th>std</th>\n",
       "    </tr>\n",
       "  </thead>\n",
       "  <tbody>\n",
       "    <tr>\n",
       "      <th>0</th>\n",
       "      <td>Baseline</td>\n",
       "      <td>0.057434</td>\n",
       "      <td>0.055794</td>\n",
       "      <td>0.056358</td>\n",
       "      <td>0.056330</td>\n",
       "      <td>0.057250</td>\n",
       "      <td>0.056633</td>\n",
       "      <td>0.000688</td>\n",
       "    </tr>\n",
       "    <tr>\n",
       "      <th>1</th>\n",
       "      <td>id_drop</td>\n",
       "      <td>0.056413</td>\n",
       "      <td>0.055778</td>\n",
       "      <td>0.056384</td>\n",
       "      <td>0.056270</td>\n",
       "      <td>0.055961</td>\n",
       "      <td>0.056161</td>\n",
       "      <td>0.000279</td>\n",
       "    </tr>\n",
       "    <tr>\n",
       "      <th>2</th>\n",
       "      <td>num_lanes_to_category_copy</td>\n",
       "      <td>0.056380</td>\n",
       "      <td>0.055809</td>\n",
       "      <td>0.056369</td>\n",
       "      <td>0.056288</td>\n",
       "      <td>0.055974</td>\n",
       "      <td>0.056164</td>\n",
       "      <td>0.000258</td>\n",
       "    </tr>\n",
       "    <tr>\n",
       "      <th>3</th>\n",
       "      <td>weather_encoded_manual_int</td>\n",
       "      <td>0.056412</td>\n",
       "      <td>0.055784</td>\n",
       "      <td>0.056361</td>\n",
       "      <td>0.056268</td>\n",
       "      <td>0.055982</td>\n",
       "      <td>0.056161</td>\n",
       "      <td>0.000269</td>\n",
       "    </tr>\n",
       "    <tr>\n",
       "      <th>4</th>\n",
       "      <td>lighting_encoded_manual</td>\n",
       "      <td>0.056442</td>\n",
       "      <td>0.055795</td>\n",
       "      <td>0.056348</td>\n",
       "      <td>0.056253</td>\n",
       "      <td>0.055984</td>\n",
       "      <td>0.056164</td>\n",
       "      <td>0.000268</td>\n",
       "    </tr>\n",
       "    <tr>\n",
       "      <th>5</th>\n",
       "      <td>bool_cats_to_int_exp</td>\n",
       "      <td>0.056442</td>\n",
       "      <td>0.055795</td>\n",
       "      <td>0.056348</td>\n",
       "      <td>0.056253</td>\n",
       "      <td>0.055984</td>\n",
       "      <td>0.056164</td>\n",
       "      <td>0.000268</td>\n",
       "    </tr>\n",
       "    <tr>\n",
       "      <th>6</th>\n",
       "      <td>lanes_speed_lightning_feature</td>\n",
       "      <td>0.056579</td>\n",
       "      <td>0.055964</td>\n",
       "      <td>0.056510</td>\n",
       "      <td>0.056443</td>\n",
       "      <td>0.056117</td>\n",
       "      <td>0.056323</td>\n",
       "      <td>0.000268</td>\n",
       "    </tr>\n",
       "  </tbody>\n",
       "</table>\n",
       "</div>"
      ],
      "text/plain": [
       "                 experiment_name         0         1         2         3  \\\n",
       "0                       Baseline  0.057434  0.055794  0.056358  0.056330   \n",
       "1                        id_drop  0.056413  0.055778  0.056384  0.056270   \n",
       "2     num_lanes_to_category_copy  0.056380  0.055809  0.056369  0.056288   \n",
       "3     weather_encoded_manual_int  0.056412  0.055784  0.056361  0.056268   \n",
       "4        lighting_encoded_manual  0.056442  0.055795  0.056348  0.056253   \n",
       "5           bool_cats_to_int_exp  0.056442  0.055795  0.056348  0.056253   \n",
       "6  lanes_speed_lightning_feature  0.056579  0.055964  0.056510  0.056443   \n",
       "\n",
       "          4      mean       std  \n",
       "0  0.057250  0.056633  0.000688  \n",
       "1  0.055961  0.056161  0.000279  \n",
       "2  0.055974  0.056164  0.000258  \n",
       "3  0.055982  0.056161  0.000269  \n",
       "4  0.055984  0.056164  0.000268  \n",
       "5  0.055984  0.056164  0.000268  \n",
       "6  0.056117  0.056323  0.000268  "
      ]
     },
     "execution_count": 54,
     "metadata": {},
     "output_type": "execute_result"
    }
   ],
   "source": [
    "Score = get_scored(X,y)\n",
    "Scoresy = save_score(Score, Scoresy, 'lanes_speed_lightning_feature')\n",
    "Scoresy.head(20)"
   ]
  },
  {
   "cell_type": "code",
   "execution_count": 55,
   "id": "90b80ac7",
   "metadata": {
    "execution": {
     "iopub.execute_input": "2025-10-24T19:50:35.539830Z",
     "iopub.status.busy": "2025-10-24T19:50:35.539531Z",
     "iopub.status.idle": "2025-10-24T19:50:35.543905Z",
     "shell.execute_reply": "2025-10-24T19:50:35.542933Z"
    },
    "papermill": {
     "duration": 0.030189,
     "end_time": "2025-10-24T19:50:35.545476",
     "exception": false,
     "start_time": "2025-10-24T19:50:35.515287",
     "status": "completed"
    },
    "tags": []
   },
   "outputs": [],
   "source": [
    "# Score = get_scored(X_train,y_train)\n",
    "# Scoresy = save_score(Score, Scoresy, 'lanes_speed_lightning_feature_encoded')\n",
    "# Scoresy.head(20)"
   ]
  },
  {
   "cell_type": "code",
   "execution_count": 56,
   "id": "11dbd503",
   "metadata": {
    "execution": {
     "iopub.execute_input": "2025-10-24T19:50:35.593884Z",
     "iopub.status.busy": "2025-10-24T19:50:35.593579Z",
     "iopub.status.idle": "2025-10-24T19:50:35.603940Z",
     "shell.execute_reply": "2025-10-24T19:50:35.603167Z"
    },
    "papermill": {
     "duration": 0.036429,
     "end_time": "2025-10-24T19:50:35.605422",
     "exception": false,
     "start_time": "2025-10-24T19:50:35.568993",
     "status": "completed"
    },
    "tags": []
   },
   "outputs": [],
   "source": [
    "X['speed_curature_ratio'] = X['curvature']/X['speed_limit']"
   ]
  },
  {
   "cell_type": "code",
   "execution_count": 57,
   "id": "50f8936c",
   "metadata": {
    "execution": {
     "iopub.execute_input": "2025-10-24T19:50:35.653945Z",
     "iopub.status.busy": "2025-10-24T19:50:35.653616Z",
     "iopub.status.idle": "2025-10-24T19:50:53.257130Z",
     "shell.execute_reply": "2025-10-24T19:50:53.256420Z"
    },
    "papermill": {
     "duration": 17.629657,
     "end_time": "2025-10-24T19:50:53.259053",
     "exception": false,
     "start_time": "2025-10-24T19:50:35.629396",
     "status": "completed"
    },
    "tags": []
   },
   "outputs": [
    {
     "name": "stdout",
     "output_type": "stream",
     "text": [
      "RMSE on 5 folds 0.05632132793054447\n"
     ]
    },
    {
     "data": {
      "text/html": [
       "<div>\n",
       "<style scoped>\n",
       "    .dataframe tbody tr th:only-of-type {\n",
       "        vertical-align: middle;\n",
       "    }\n",
       "\n",
       "    .dataframe tbody tr th {\n",
       "        vertical-align: top;\n",
       "    }\n",
       "\n",
       "    .dataframe thead th {\n",
       "        text-align: right;\n",
       "    }\n",
       "</style>\n",
       "<table border=\"1\" class=\"dataframe\">\n",
       "  <thead>\n",
       "    <tr style=\"text-align: right;\">\n",
       "      <th></th>\n",
       "      <th>experiment_name</th>\n",
       "      <th>0</th>\n",
       "      <th>1</th>\n",
       "      <th>2</th>\n",
       "      <th>3</th>\n",
       "      <th>4</th>\n",
       "      <th>mean</th>\n",
       "      <th>std</th>\n",
       "    </tr>\n",
       "  </thead>\n",
       "  <tbody>\n",
       "    <tr>\n",
       "      <th>0</th>\n",
       "      <td>Baseline</td>\n",
       "      <td>0.057434</td>\n",
       "      <td>0.055794</td>\n",
       "      <td>0.056358</td>\n",
       "      <td>0.056330</td>\n",
       "      <td>0.057250</td>\n",
       "      <td>0.056633</td>\n",
       "      <td>0.000688</td>\n",
       "    </tr>\n",
       "    <tr>\n",
       "      <th>1</th>\n",
       "      <td>id_drop</td>\n",
       "      <td>0.056413</td>\n",
       "      <td>0.055778</td>\n",
       "      <td>0.056384</td>\n",
       "      <td>0.056270</td>\n",
       "      <td>0.055961</td>\n",
       "      <td>0.056161</td>\n",
       "      <td>0.000279</td>\n",
       "    </tr>\n",
       "    <tr>\n",
       "      <th>2</th>\n",
       "      <td>num_lanes_to_category_copy</td>\n",
       "      <td>0.056380</td>\n",
       "      <td>0.055809</td>\n",
       "      <td>0.056369</td>\n",
       "      <td>0.056288</td>\n",
       "      <td>0.055974</td>\n",
       "      <td>0.056164</td>\n",
       "      <td>0.000258</td>\n",
       "    </tr>\n",
       "    <tr>\n",
       "      <th>3</th>\n",
       "      <td>weather_encoded_manual_int</td>\n",
       "      <td>0.056412</td>\n",
       "      <td>0.055784</td>\n",
       "      <td>0.056361</td>\n",
       "      <td>0.056268</td>\n",
       "      <td>0.055982</td>\n",
       "      <td>0.056161</td>\n",
       "      <td>0.000269</td>\n",
       "    </tr>\n",
       "    <tr>\n",
       "      <th>4</th>\n",
       "      <td>lighting_encoded_manual</td>\n",
       "      <td>0.056442</td>\n",
       "      <td>0.055795</td>\n",
       "      <td>0.056348</td>\n",
       "      <td>0.056253</td>\n",
       "      <td>0.055984</td>\n",
       "      <td>0.056164</td>\n",
       "      <td>0.000268</td>\n",
       "    </tr>\n",
       "    <tr>\n",
       "      <th>5</th>\n",
       "      <td>bool_cats_to_int_exp</td>\n",
       "      <td>0.056442</td>\n",
       "      <td>0.055795</td>\n",
       "      <td>0.056348</td>\n",
       "      <td>0.056253</td>\n",
       "      <td>0.055984</td>\n",
       "      <td>0.056164</td>\n",
       "      <td>0.000268</td>\n",
       "    </tr>\n",
       "    <tr>\n",
       "      <th>6</th>\n",
       "      <td>lanes_speed_lightning_feature</td>\n",
       "      <td>0.056579</td>\n",
       "      <td>0.055964</td>\n",
       "      <td>0.056510</td>\n",
       "      <td>0.056443</td>\n",
       "      <td>0.056117</td>\n",
       "      <td>0.056323</td>\n",
       "      <td>0.000268</td>\n",
       "    </tr>\n",
       "    <tr>\n",
       "      <th>7</th>\n",
       "      <td>speed_curature_ratio</td>\n",
       "      <td>0.056622</td>\n",
       "      <td>0.055945</td>\n",
       "      <td>0.056486</td>\n",
       "      <td>0.056455</td>\n",
       "      <td>0.056096</td>\n",
       "      <td>0.056321</td>\n",
       "      <td>0.000286</td>\n",
       "    </tr>\n",
       "  </tbody>\n",
       "</table>\n",
       "</div>"
      ],
      "text/plain": [
       "                 experiment_name         0         1         2         3  \\\n",
       "0                       Baseline  0.057434  0.055794  0.056358  0.056330   \n",
       "1                        id_drop  0.056413  0.055778  0.056384  0.056270   \n",
       "2     num_lanes_to_category_copy  0.056380  0.055809  0.056369  0.056288   \n",
       "3     weather_encoded_manual_int  0.056412  0.055784  0.056361  0.056268   \n",
       "4        lighting_encoded_manual  0.056442  0.055795  0.056348  0.056253   \n",
       "5           bool_cats_to_int_exp  0.056442  0.055795  0.056348  0.056253   \n",
       "6  lanes_speed_lightning_feature  0.056579  0.055964  0.056510  0.056443   \n",
       "7           speed_curature_ratio  0.056622  0.055945  0.056486  0.056455   \n",
       "\n",
       "          4      mean       std  \n",
       "0  0.057250  0.056633  0.000688  \n",
       "1  0.055961  0.056161  0.000279  \n",
       "2  0.055974  0.056164  0.000258  \n",
       "3  0.055982  0.056161  0.000269  \n",
       "4  0.055984  0.056164  0.000268  \n",
       "5  0.055984  0.056164  0.000268  \n",
       "6  0.056117  0.056323  0.000268  \n",
       "7  0.056096  0.056321  0.000286  "
      ]
     },
     "execution_count": 57,
     "metadata": {},
     "output_type": "execute_result"
    }
   ],
   "source": [
    "Score = get_scored(X,y)\n",
    "Scoresy = save_score(Score, Scoresy, 'speed_curature_ratio')\n",
    "Scoresy.head(20)"
   ]
  },
  {
   "cell_type": "markdown",
   "id": "6fa4e5eb",
   "metadata": {
    "papermill": {
     "duration": 0.023392,
     "end_time": "2025-10-24T19:50:53.307244",
     "exception": false,
     "start_time": "2025-10-24T19:50:53.283852",
     "status": "completed"
    },
    "tags": []
   },
   "source": [
    "\n",
    "experiment_name\t0\t1\t2\t3\t4\tmean\tstd\\\n",
    "0\tBaseline\t0.057434\t0.055794\t0.056358\t0.056330\t0.057250\t0.056633\t0.000688\\\n",
    "1\tid_drop\t0.056413\t0.055778\t0.056384\t0.056270\t0.055961\t0.056161\t0.000279\\\n",
    "2\tnum_lanes_to_category_copy\t0.056380\t0.055809\t0.056369\t0.056288\t0.055974\t0.056164\t0.000258\\\n",
    "3\tweather_encoded_manual_int\t0.056412\t0.055784\t0.056361\t0.056268\t0.055982\t0.056161\t0.000269\\\n",
    "4\tlighting_encoded_manual\t0.056442\t0.055795\t0.056348\t0.056253\t0.055984\t0.056164\t0.000268\\\n",
    "5\tbool_cats_to_int_exp\t0.056442\t0.055795\t0.056348\t0.056253\t0.055984\t0.056164\t0.000268\\\n",
    "6\tlanes_speed_lightning_feature\t0.056579\t0.055964\t0.056510\t0.056443\t0.056117\t0.056323\t0.000268\\\n",
    "7\tspeed_curature_ratio\t0.056622\t0.055945\t0.056486\t0.056455\t0.056096\t0.056321\t0.000286\\\n",
    "add Codeadd Markdown"
   ]
  },
  {
   "cell_type": "markdown",
   "id": "b5a2ce14",
   "metadata": {
    "papermill": {
     "duration": 0.023122,
     "end_time": "2025-10-24T19:50:53.353946",
     "exception": false,
     "start_time": "2025-10-24T19:50:53.330824",
     "status": "completed"
    },
    "tags": []
   },
   "source": [
    "## Ok so I guess that's it for now\n"
   ]
  },
  {
   "cell_type": "code",
   "execution_count": 58,
   "id": "552b5bc0",
   "metadata": {
    "execution": {
     "iopub.execute_input": "2025-10-24T19:50:53.402959Z",
     "iopub.status.busy": "2025-10-24T19:50:53.402548Z",
     "iopub.status.idle": "2025-10-24T19:50:53.407106Z",
     "shell.execute_reply": "2025-10-24T19:50:53.405917Z"
    },
    "papermill": {
     "duration": 0.0306,
     "end_time": "2025-10-24T19:50:53.408583",
     "exception": false,
     "start_time": "2025-10-24T19:50:53.377983",
     "status": "completed"
    },
    "tags": []
   },
   "outputs": [],
   "source": [
    "# for colname in X.select_dtypes(\"category\"):\n",
    "#     X[colname], _ = X[colname].factorize()\n",
    "# discrete_features = X.dtypes == int"
   ]
  },
  {
   "cell_type": "code",
   "execution_count": 59,
   "id": "b940f73c",
   "metadata": {
    "execution": {
     "iopub.execute_input": "2025-10-24T19:50:53.457191Z",
     "iopub.status.busy": "2025-10-24T19:50:53.456359Z",
     "iopub.status.idle": "2025-10-24T19:50:53.460220Z",
     "shell.execute_reply": "2025-10-24T19:50:53.459528Z"
    },
    "papermill": {
     "duration": 0.029629,
     "end_time": "2025-10-24T19:50:53.461555",
     "exception": false,
     "start_time": "2025-10-24T19:50:53.431926",
     "status": "completed"
    },
    "tags": []
   },
   "outputs": [],
   "source": [
    "# discrete_features"
   ]
  },
  {
   "cell_type": "code",
   "execution_count": 60,
   "id": "9a6eb5c8",
   "metadata": {
    "execution": {
     "iopub.execute_input": "2025-10-24T19:50:53.511016Z",
     "iopub.status.busy": "2025-10-24T19:50:53.510707Z",
     "iopub.status.idle": "2025-10-24T19:50:53.514346Z",
     "shell.execute_reply": "2025-10-24T19:50:53.513636Z"
    },
    "papermill": {
     "duration": 0.030419,
     "end_time": "2025-10-24T19:50:53.515581",
     "exception": false,
     "start_time": "2025-10-24T19:50:53.485162",
     "status": "completed"
    },
    "tags": []
   },
   "outputs": [],
   "source": [
    "# from sklearn.feature_selection import mutual_info_regression\n"
   ]
  },
  {
   "cell_type": "code",
   "execution_count": 61,
   "id": "1d6f033a",
   "metadata": {
    "execution": {
     "iopub.execute_input": "2025-10-24T19:50:53.565231Z",
     "iopub.status.busy": "2025-10-24T19:50:53.564521Z",
     "iopub.status.idle": "2025-10-24T19:50:53.569247Z",
     "shell.execute_reply": "2025-10-24T19:50:53.568251Z"
    },
    "papermill": {
     "duration": 0.031113,
     "end_time": "2025-10-24T19:50:53.570836",
     "exception": false,
     "start_time": "2025-10-24T19:50:53.539723",
     "status": "completed"
    },
    "tags": []
   },
   "outputs": [],
   "source": [
    "# def make_mi_scores(X, y, discrete_features):\n",
    "#     mi_scores = mutual_info_regression(X, y, discrete_features=discrete_features)\n",
    "#     mi_scores = pd.Series(mi_scores, name=\"MI Scores\", index=X.columns)\n",
    "#     mi_scores = mi_scores.sort_values(ascending=False)\n",
    "#     return mi_scores\n",
    "\n",
    "# mi_scores = make_mi_scores(X, y, discrete_features)\n",
    "# mi_scores[::3]  # show a few features with their MI scores"
   ]
  },
  {
   "cell_type": "code",
   "execution_count": 62,
   "id": "99093816",
   "metadata": {
    "execution": {
     "iopub.execute_input": "2025-10-24T19:50:53.620676Z",
     "iopub.status.busy": "2025-10-24T19:50:53.619735Z",
     "iopub.status.idle": "2025-10-24T19:50:53.624075Z",
     "shell.execute_reply": "2025-10-24T19:50:53.623239Z"
    },
    "papermill": {
     "duration": 0.030717,
     "end_time": "2025-10-24T19:50:53.625558",
     "exception": false,
     "start_time": "2025-10-24T19:50:53.594841",
     "status": "completed"
    },
    "tags": []
   },
   "outputs": [],
   "source": [
    "# cols = X.columns.tolist()"
   ]
  },
  {
   "cell_type": "code",
   "execution_count": 63,
   "id": "f2f78b32",
   "metadata": {
    "execution": {
     "iopub.execute_input": "2025-10-24T19:50:53.674644Z",
     "iopub.status.busy": "2025-10-24T19:50:53.674310Z",
     "iopub.status.idle": "2025-10-24T19:50:53.678392Z",
     "shell.execute_reply": "2025-10-24T19:50:53.677396Z"
    },
    "papermill": {
     "duration": 0.030688,
     "end_time": "2025-10-24T19:50:53.680003",
     "exception": false,
     "start_time": "2025-10-24T19:50:53.649315",
     "status": "completed"
    },
    "tags": []
   },
   "outputs": [],
   "source": [
    "# cols"
   ]
  },
  {
   "cell_type": "code",
   "execution_count": 64,
   "id": "e0dacc2f",
   "metadata": {
    "execution": {
     "iopub.execute_input": "2025-10-24T19:50:53.728662Z",
     "iopub.status.busy": "2025-10-24T19:50:53.728319Z",
     "iopub.status.idle": "2025-10-24T19:50:53.732236Z",
     "shell.execute_reply": "2025-10-24T19:50:53.731407Z"
    },
    "papermill": {
     "duration": 0.02981,
     "end_time": "2025-10-24T19:50:53.733708",
     "exception": false,
     "start_time": "2025-10-24T19:50:53.703898",
     "status": "completed"
    },
    "tags": []
   },
   "outputs": [],
   "source": [
    "# discrete_mask = discrete_features.loc[cols].to_numpy(dtype=bool)"
   ]
  },
  {
   "cell_type": "code",
   "execution_count": 65,
   "id": "857b47db",
   "metadata": {
    "execution": {
     "iopub.execute_input": "2025-10-24T19:50:53.782843Z",
     "iopub.status.busy": "2025-10-24T19:50:53.782541Z",
     "iopub.status.idle": "2025-10-24T19:50:53.786551Z",
     "shell.execute_reply": "2025-10-24T19:50:53.785660Z"
    },
    "papermill": {
     "duration": 0.030153,
     "end_time": "2025-10-24T19:50:53.787859",
     "exception": false,
     "start_time": "2025-10-24T19:50:53.757706",
     "status": "completed"
    },
    "tags": []
   },
   "outputs": [],
   "source": [
    "# discrete_mask"
   ]
  },
  {
   "cell_type": "code",
   "execution_count": 66,
   "id": "ce3e9411",
   "metadata": {
    "execution": {
     "iopub.execute_input": "2025-10-24T19:50:53.835954Z",
     "iopub.status.busy": "2025-10-24T19:50:53.835666Z",
     "iopub.status.idle": "2025-10-24T19:50:53.840188Z",
     "shell.execute_reply": "2025-10-24T19:50:53.839023Z"
    },
    "papermill": {
     "duration": 0.030515,
     "end_time": "2025-10-24T19:50:53.841823",
     "exception": false,
     "start_time": "2025-10-24T19:50:53.811308",
     "status": "completed"
    },
    "tags": []
   },
   "outputs": [],
   "source": [
    "# from sklearn.feature_selection import mutual_info_regression\n",
    "# mi_scores = mutual_info_regression(X, y,\n",
    "#                                    discrete_features=discrete_mask,\n",
    "#                                    random_state=42)\n",
    "# mi_series = pd.Series(mi_scores, index=cols).sort_values(ascending=False)\n",
    "# print(mi_series)"
   ]
  },
  {
   "cell_type": "markdown",
   "id": "7fb8731b",
   "metadata": {
    "papermill": {
     "duration": 0.023339,
     "end_time": "2025-10-24T19:50:53.888947",
     "exception": false,
     "start_time": "2025-10-24T19:50:53.865608",
     "status": "completed"
    },
    "tags": []
   },
   "source": []
  },
  {
   "cell_type": "code",
   "execution_count": 67,
   "id": "97ff03f4",
   "metadata": {
    "execution": {
     "iopub.execute_input": "2025-10-24T19:50:53.938122Z",
     "iopub.status.busy": "2025-10-24T19:50:53.937312Z",
     "iopub.status.idle": "2025-10-24T19:50:53.942959Z",
     "shell.execute_reply": "2025-10-24T19:50:53.941860Z"
    },
    "papermill": {
     "duration": 0.032172,
     "end_time": "2025-10-24T19:50:53.944412",
     "exception": false,
     "start_time": "2025-10-24T19:50:53.912240",
     "status": "completed"
    },
    "tags": []
   },
   "outputs": [],
   "source": [
    "# from sklearn.model_selection import train_test_split\n",
    "# import optuna   \n",
    "# from sklearn.metrics import mean_squared_error\n",
    "\n",
    "# def objective(trial):\n",
    "#     X_train, X_val, y_train, y_val = train_test_split(\n",
    "#         X, y, test_size=0.2, random_state=42\n",
    "#     )\n",
    "\n",
    "#     params = {\n",
    "#         'n_estimators': 5000,\n",
    "#         'max_depth': trial.suggest_int('max_depth', 3, 15),\n",
    "#         'learning_rate': trial.suggest_float('learning_rate', 0.005, 0.3, log=True),\n",
    "#         'subsample': trial.suggest_float('subsample', 0.6, 1.0),\n",
    "#         'colsample_bytree': trial.suggest_float('colsample_bytree', 0.6, 1.0),\n",
    "#         'colsample_bylevel': trial.suggest_float('colsample_bylevel', 0.6, 1.0),\n",
    "#         'reg_alpha': trial.suggest_float('reg_alpha', 1e-8, 10.0, log=True),\n",
    "#         'reg_lambda': trial.suggest_float('reg_lambda', 1e-8, 10.0, log=True),\n",
    "#         'min_child_weight': trial.suggest_int('min_child_weight', 1, 10),\n",
    "#         'gamma': trial.suggest_float('gamma', 1e-8, 1.0, log=True),\n",
    "#         # добавляем листья-параметры\n",
    "#         'grow_policy': 'lossguide',\n",
    "#         'max_leaves': trial.suggest_int('max_leaves', 4, 128),\n",
    "#         # GPU-параметры\n",
    "#         'tree_method': 'hist',\n",
    "#         'device':'cuda',\n",
    "#         # остальное\n",
    "#         'random_state': 42,\n",
    "#         'n_jobs': -1,\n",
    "#         'eval_metric': 'rmse',\n",
    "#         'enable_categorical':True\n",
    "#     }\n",
    "\n",
    "#     model = XGBRegressor(**params, early_stopping_rounds=50)\n",
    "#     model.fit(\n",
    "#         X_train, y_train,\n",
    "#         eval_set=[(X_val, y_val)],\n",
    "#         verbose=False\n",
    "#     )\n",
    "\n",
    "#     best_ntree = model.get_booster().best_iteration + 1\n",
    "#     trial.set_user_attr(\"best_n_estimators\", best_ntree)\n",
    "#     trial.set_user_attr(\"best_max_leaves\", params['max_leaves'])\n",
    "\n",
    "#     y_pred = model.predict(X_val)\n",
    "#     rmse = np.sqrt(mean_squared_error(y_val, y_pred))\n",
    "#     return rmse\n",
    "\n",
    "# study = optuna.create_study(direction='minimize')\n",
    "# study.optimize(objective, n_trials=50, show_progress_bar=True)\n",
    "\n",
    "# print(f'Best RMSE: {study.best_value:.4f}')\n",
    "# print(f'Best params: {study.best_params}')\n",
    "# print(f'Using best n_estimators: {study.best_trial.user_attrs[\"best_n_estimators\"]}')\n",
    "# print(f'Using best max_leaves: {study.best_trial.user_attrs[\"best_max_leaves\"]}')"
   ]
  },
  {
   "cell_type": "code",
   "execution_count": 68,
   "id": "82554797",
   "metadata": {
    "execution": {
     "iopub.execute_input": "2025-10-24T19:50:53.993181Z",
     "iopub.status.busy": "2025-10-24T19:50:53.992610Z",
     "iopub.status.idle": "2025-10-24T19:50:53.996372Z",
     "shell.execute_reply": "2025-10-24T19:50:53.995644Z"
    },
    "papermill": {
     "duration": 0.029619,
     "end_time": "2025-10-24T19:50:53.997804",
     "exception": false,
     "start_time": "2025-10-24T19:50:53.968185",
     "status": "completed"
    },
    "tags": []
   },
   "outputs": [],
   "source": [
    "# study.best_params\n"
   ]
  },
  {
   "cell_type": "code",
   "execution_count": 69,
   "id": "15a14e74",
   "metadata": {
    "execution": {
     "iopub.execute_input": "2025-10-24T19:50:54.045976Z",
     "iopub.status.busy": "2025-10-24T19:50:54.045651Z",
     "iopub.status.idle": "2025-10-24T19:50:54.049576Z",
     "shell.execute_reply": "2025-10-24T19:50:54.048689Z"
    },
    "papermill": {
     "duration": 0.029746,
     "end_time": "2025-10-24T19:50:54.051062",
     "exception": false,
     "start_time": "2025-10-24T19:50:54.021316",
     "status": "completed"
    },
    "tags": []
   },
   "outputs": [],
   "source": [
    "# study.best_trial.user_attrs"
   ]
  },
  {
   "cell_type": "markdown",
   "id": "059044fb",
   "metadata": {
    "papermill": {
     "duration": 0.023313,
     "end_time": "2025-10-24T19:50:54.097796",
     "exception": false,
     "start_time": "2025-10-24T19:50:54.074483",
     "status": "completed"
    },
    "tags": []
   },
   "source": [
    "'max_depth': 12,\n",
    " 'learning_rate': 0.012979250475635971,\n",
    " 'subsample': 0.9707429033714928,\n",
    " 'colsample_bytree': 0.9147427767339446,\n",
    " 'colsample_bylevel': 0.8346988683782983,\n",
    " 'reg_alpha': 0.014884815777159114,\n",
    " 'reg_lambda': 2.9658416401715585e-05,\n",
    " 'min_child_weight': 7,\n",
    " 'gamma': 8.548894020869924e-06,\n",
    " 'max_leaves': 121} \\\n",
    " {'best_n_estimators': 629, 'best_max_leaves': 121}"
   ]
  },
  {
   "cell_type": "code",
   "execution_count": 70,
   "id": "9ddf5e2b",
   "metadata": {
    "execution": {
     "iopub.execute_input": "2025-10-24T19:50:54.146661Z",
     "iopub.status.busy": "2025-10-24T19:50:54.146312Z",
     "iopub.status.idle": "2025-10-24T19:50:54.150610Z",
     "shell.execute_reply": "2025-10-24T19:50:54.149730Z"
    },
    "papermill": {
     "duration": 0.03075,
     "end_time": "2025-10-24T19:50:54.152015",
     "exception": false,
     "start_time": "2025-10-24T19:50:54.121265",
     "status": "completed"
    },
    "tags": []
   },
   "outputs": [],
   "source": [
    "# import matplotlib.pyplot as plt\n",
    "\n",
    "# # После optimize(...)\n",
    "# # График истории оптимизации\n",
    "# fig = optuna.visualization.plot_optimization_history(study)\n",
    "# fig.show()\n",
    "\n",
    "# # Или, если хотите использование matplotlib (альтернативный вариант)\n",
    "# ax = optuna.visualization.matplotlib.plot_optimization_history(\n",
    "#     study,\n",
    "#     target_name='RMSE'\n",
    "# )\n",
    "# plt.tight_layout()\n",
    "# plt.show()\n",
    "\n",
    "# # Дополнительно: важность параметров\n",
    "# fig_imp = optuna.visualization.plot_param_importances(study)\n",
    "# fig_imp.show()\n"
   ]
  },
  {
   "cell_type": "code",
   "execution_count": 71,
   "id": "88945a8f",
   "metadata": {
    "execution": {
     "iopub.execute_input": "2025-10-24T19:50:54.201650Z",
     "iopub.status.busy": "2025-10-24T19:50:54.201044Z",
     "iopub.status.idle": "2025-10-24T19:50:54.204721Z",
     "shell.execute_reply": "2025-10-24T19:50:54.204013Z"
    },
    "papermill": {
     "duration": 0.030236,
     "end_time": "2025-10-24T19:50:54.206109",
     "exception": false,
     "start_time": "2025-10-24T19:50:54.175873",
     "status": "completed"
    },
    "tags": []
   },
   "outputs": [],
   "source": [
    "## XGBoost for submission"
   ]
  },
  {
   "cell_type": "code",
   "execution_count": 72,
   "id": "6d197362",
   "metadata": {
    "execution": {
     "iopub.execute_input": "2025-10-24T19:50:54.255048Z",
     "iopub.status.busy": "2025-10-24T19:50:54.254298Z",
     "iopub.status.idle": "2025-10-24T19:50:54.259450Z",
     "shell.execute_reply": "2025-10-24T19:50:54.258650Z"
    },
    "papermill": {
     "duration": 0.031153,
     "end_time": "2025-10-24T19:50:54.260950",
     "exception": false,
     "start_time": "2025-10-24T19:50:54.229797",
     "status": "completed"
    },
    "tags": []
   },
   "outputs": [],
   "source": [
    "parametrs = {'max_depth': 12,\n",
    " 'n_estimators': 629,            \n",
    " 'learning_rate': 0.012979250475635971,\n",
    " 'subsample': 0.9707429033714928,\n",
    " 'colsample_bytree': 0.9147427767339446,\n",
    " 'colsample_bylevel': 0.8346988683782983,\n",
    " 'reg_alpha': 0.014884815777159114,\n",
    " 'reg_lambda': 2.9658416401715585e-05,\n",
    " 'min_child_weight': 7,\n",
    " 'gamma': 8.548894020869924e-06,\n",
    " 'max_leaves': 121,\n",
    " 'random_state': 42,\n",
    " 'enable_categorical':True}"
   ]
  },
  {
   "cell_type": "code",
   "execution_count": 73,
   "id": "be938405",
   "metadata": {
    "execution": {
     "iopub.execute_input": "2025-10-24T19:50:54.310050Z",
     "iopub.status.busy": "2025-10-24T19:50:54.309266Z",
     "iopub.status.idle": "2025-10-24T19:50:54.322985Z",
     "shell.execute_reply": "2025-10-24T19:50:54.322154Z"
    },
    "papermill": {
     "duration": 0.039362,
     "end_time": "2025-10-24T19:50:54.324368",
     "exception": false,
     "start_time": "2025-10-24T19:50:54.285006",
     "status": "completed"
    },
    "tags": []
   },
   "outputs": [
    {
     "data": {
      "text/html": [
       "<div>\n",
       "<style scoped>\n",
       "    .dataframe tbody tr th:only-of-type {\n",
       "        vertical-align: middle;\n",
       "    }\n",
       "\n",
       "    .dataframe tbody tr th {\n",
       "        vertical-align: top;\n",
       "    }\n",
       "\n",
       "    .dataframe thead th {\n",
       "        text-align: right;\n",
       "    }\n",
       "</style>\n",
       "<table border=\"1\" class=\"dataframe\">\n",
       "  <thead>\n",
       "    <tr style=\"text-align: right;\">\n",
       "      <th></th>\n",
       "      <th>road_type</th>\n",
       "      <th>num_lanes</th>\n",
       "      <th>curvature</th>\n",
       "      <th>speed_limit</th>\n",
       "      <th>lighting</th>\n",
       "      <th>weather</th>\n",
       "      <th>road_signs_present</th>\n",
       "      <th>public_road</th>\n",
       "      <th>time_of_day</th>\n",
       "      <th>holiday</th>\n",
       "      <th>school_season</th>\n",
       "      <th>num_reported_accidents</th>\n",
       "      <th>num_lanes_cat</th>\n",
       "      <th>lanes_speed_lightning_feature</th>\n",
       "      <th>speed_curature_ratio</th>\n",
       "    </tr>\n",
       "  </thead>\n",
       "  <tbody>\n",
       "    <tr>\n",
       "      <th>0</th>\n",
       "      <td>urban</td>\n",
       "      <td>2</td>\n",
       "      <td>0.06</td>\n",
       "      <td>35</td>\n",
       "      <td>2</td>\n",
       "      <td>2</td>\n",
       "      <td>0</td>\n",
       "      <td>1</td>\n",
       "      <td>afternoon</td>\n",
       "      <td>0</td>\n",
       "      <td>1</td>\n",
       "      <td>1</td>\n",
       "      <td>2</td>\n",
       "      <td>2_35_2</td>\n",
       "      <td>0.001714</td>\n",
       "    </tr>\n",
       "    <tr>\n",
       "      <th>1</th>\n",
       "      <td>urban</td>\n",
       "      <td>4</td>\n",
       "      <td>0.99</td>\n",
       "      <td>35</td>\n",
       "      <td>2</td>\n",
       "      <td>0</td>\n",
       "      <td>1</td>\n",
       "      <td>0</td>\n",
       "      <td>evening</td>\n",
       "      <td>1</td>\n",
       "      <td>1</td>\n",
       "      <td>0</td>\n",
       "      <td>4</td>\n",
       "      <td>4_35_2</td>\n",
       "      <td>0.028286</td>\n",
       "    </tr>\n",
       "    <tr>\n",
       "      <th>2</th>\n",
       "      <td>rural</td>\n",
       "      <td>4</td>\n",
       "      <td>0.63</td>\n",
       "      <td>70</td>\n",
       "      <td>1</td>\n",
       "      <td>0</td>\n",
       "      <td>0</td>\n",
       "      <td>1</td>\n",
       "      <td>morning</td>\n",
       "      <td>1</td>\n",
       "      <td>0</td>\n",
       "      <td>2</td>\n",
       "      <td>4</td>\n",
       "      <td>4_70_1</td>\n",
       "      <td>0.009000</td>\n",
       "    </tr>\n",
       "    <tr>\n",
       "      <th>3</th>\n",
       "      <td>highway</td>\n",
       "      <td>4</td>\n",
       "      <td>0.07</td>\n",
       "      <td>35</td>\n",
       "      <td>1</td>\n",
       "      <td>2</td>\n",
       "      <td>1</td>\n",
       "      <td>1</td>\n",
       "      <td>morning</td>\n",
       "      <td>0</td>\n",
       "      <td>0</td>\n",
       "      <td>1</td>\n",
       "      <td>4</td>\n",
       "      <td>4_35_1</td>\n",
       "      <td>0.002000</td>\n",
       "    </tr>\n",
       "    <tr>\n",
       "      <th>4</th>\n",
       "      <td>rural</td>\n",
       "      <td>1</td>\n",
       "      <td>0.58</td>\n",
       "      <td>60</td>\n",
       "      <td>2</td>\n",
       "      <td>1</td>\n",
       "      <td>0</td>\n",
       "      <td>0</td>\n",
       "      <td>evening</td>\n",
       "      <td>1</td>\n",
       "      <td>0</td>\n",
       "      <td>1</td>\n",
       "      <td>1</td>\n",
       "      <td>1_60_2</td>\n",
       "      <td>0.009667</td>\n",
       "    </tr>\n",
       "  </tbody>\n",
       "</table>\n",
       "</div>"
      ],
      "text/plain": [
       "  road_type  num_lanes  curvature  speed_limit  lighting  weather  \\\n",
       "0     urban          2       0.06           35         2        2   \n",
       "1     urban          4       0.99           35         2        0   \n",
       "2     rural          4       0.63           70         1        0   \n",
       "3   highway          4       0.07           35         1        2   \n",
       "4     rural          1       0.58           60         2        1   \n",
       "\n",
       "   road_signs_present  public_road time_of_day  holiday  school_season  \\\n",
       "0                   0            1   afternoon        0              1   \n",
       "1                   1            0     evening        1              1   \n",
       "2                   0            1     morning        1              0   \n",
       "3                   1            1     morning        0              0   \n",
       "4                   0            0     evening        1              0   \n",
       "\n",
       "   num_reported_accidents num_lanes_cat lanes_speed_lightning_feature  \\\n",
       "0                       1             2                        2_35_2   \n",
       "1                       0             4                        4_35_2   \n",
       "2                       2             4                        4_70_1   \n",
       "3                       1             4                        4_35_1   \n",
       "4                       1             1                        1_60_2   \n",
       "\n",
       "   speed_curature_ratio  \n",
       "0              0.001714  \n",
       "1              0.028286  \n",
       "2              0.009000  \n",
       "3              0.002000  \n",
       "4              0.009667  "
      ]
     },
     "execution_count": 73,
     "metadata": {},
     "output_type": "execute_result"
    }
   ],
   "source": [
    "X.head()"
   ]
  },
  {
   "cell_type": "markdown",
   "id": "f2d15ffc",
   "metadata": {
    "papermill": {
     "duration": 0.023386,
     "end_time": "2025-10-24T19:50:54.372252",
     "exception": false,
     "start_time": "2025-10-24T19:50:54.348866",
     "status": "completed"
    },
    "tags": []
   },
   "source": []
  },
  {
   "cell_type": "code",
   "execution_count": 74,
   "id": "bf0f5abd",
   "metadata": {
    "execution": {
     "iopub.execute_input": "2025-10-24T19:50:54.421338Z",
     "iopub.status.busy": "2025-10-24T19:50:54.421011Z",
     "iopub.status.idle": "2025-10-24T19:50:54.649658Z",
     "shell.execute_reply": "2025-10-24T19:50:54.648670Z"
    },
    "papermill": {
     "duration": 0.255926,
     "end_time": "2025-10-24T19:50:54.651642",
     "exception": false,
     "start_time": "2025-10-24T19:50:54.395716",
     "status": "completed"
    },
    "tags": []
   },
   "outputs": [],
   "source": [
    "X_test.pop('id')\n",
    "X_test['num_lanes_cat']=X_test['num_lanes']\n",
    "X_test['num_lanes_cat']=X_test['num_lanes_cat'].astype('category')\n",
    "X_test['weather'] = X_test['weather'].map({'clear': 0, 'foggy': 1, 'rainy':2})\n",
    "X_test['weather'] = X_test['weather'].astype(int)\n",
    "X_test['lighting']=X_test['lighting'].map({'night':0, 'dim':1, 'daylight' : 2})\n",
    "X_test['lighting'] = X_test['lighting'].astype(int)\n",
    "bool_cats=['road_signs_present','public_road', 'holiday', 'school_season']\n",
    "X_test[bool_cats] = X_test[bool_cats] .astype(int)\n",
    "X_test['lanes_speed_lightning_feature']=(\n",
    "    X_test['num_lanes'].astype(str) + '_' +\n",
    "    X_test['speed_limit'].astype(str)  + '_' + \n",
    "    X_test['lighting'].astype(str)\n",
    ")\n",
    "X_test['lanes_speed_lightning_feature'] = X_test['lanes_speed_lightning_feature'].astype('category')\n",
    "X_test['speed_curature_ratio'] = X_test['curvature']/X_test['speed_limit']"
   ]
  },
  {
   "cell_type": "code",
   "execution_count": 75,
   "id": "a1670f0d",
   "metadata": {
    "execution": {
     "iopub.execute_input": "2025-10-24T19:50:54.704157Z",
     "iopub.status.busy": "2025-10-24T19:50:54.703850Z",
     "iopub.status.idle": "2025-10-24T19:50:54.731128Z",
     "shell.execute_reply": "2025-10-24T19:50:54.730158Z"
    },
    "papermill": {
     "duration": 0.05373,
     "end_time": "2025-10-24T19:50:54.732945",
     "exception": false,
     "start_time": "2025-10-24T19:50:54.679215",
     "status": "completed"
    },
    "tags": []
   },
   "outputs": [],
   "source": [
    "for col in X_test.columns:\n",
    "    if X_test[col].dtype == 'object':\n",
    "         X_test[col] = X_test[col].astype('category')"
   ]
  },
  {
   "cell_type": "code",
   "execution_count": 76,
   "id": "190a9aa2",
   "metadata": {
    "execution": {
     "iopub.execute_input": "2025-10-24T19:50:54.783326Z",
     "iopub.status.busy": "2025-10-24T19:50:54.782994Z",
     "iopub.status.idle": "2025-10-24T19:50:54.808141Z",
     "shell.execute_reply": "2025-10-24T19:50:54.807003Z"
    },
    "papermill": {
     "duration": 0.052934,
     "end_time": "2025-10-24T19:50:54.810178",
     "exception": false,
     "start_time": "2025-10-24T19:50:54.757244",
     "status": "completed"
    },
    "tags": []
   },
   "outputs": [
    {
     "name": "stdout",
     "output_type": "stream",
     "text": [
      "<class 'pandas.core.frame.DataFrame'>\n",
      "RangeIndex: 517754 entries, 0 to 517753\n",
      "Data columns (total 15 columns):\n",
      " #   Column                         Non-Null Count   Dtype   \n",
      "---  ------                         --------------   -----   \n",
      " 0   road_type                      517754 non-null  category\n",
      " 1   num_lanes                      517754 non-null  int64   \n",
      " 2   curvature                      517754 non-null  float64 \n",
      " 3   speed_limit                    517754 non-null  int64   \n",
      " 4   lighting                       517754 non-null  int64   \n",
      " 5   weather                        517754 non-null  int64   \n",
      " 6   road_signs_present             517754 non-null  int64   \n",
      " 7   public_road                    517754 non-null  int64   \n",
      " 8   time_of_day                    517754 non-null  category\n",
      " 9   holiday                        517754 non-null  int64   \n",
      " 10  school_season                  517754 non-null  int64   \n",
      " 11  num_reported_accidents         517754 non-null  int64   \n",
      " 12  num_lanes_cat                  517754 non-null  category\n",
      " 13  lanes_speed_lightning_feature  517754 non-null  category\n",
      " 14  speed_curature_ratio           517754 non-null  float64 \n",
      "dtypes: category(4), float64(2), int64(9)\n",
      "memory usage: 45.4 MB\n"
     ]
    }
   ],
   "source": [
    "X.info()"
   ]
  },
  {
   "cell_type": "code",
   "execution_count": 77,
   "id": "462c71fd",
   "metadata": {
    "execution": {
     "iopub.execute_input": "2025-10-24T19:50:54.862122Z",
     "iopub.status.busy": "2025-10-24T19:50:54.861815Z",
     "iopub.status.idle": "2025-10-24T19:50:54.878600Z",
     "shell.execute_reply": "2025-10-24T19:50:54.877602Z"
    },
    "papermill": {
     "duration": 0.04507,
     "end_time": "2025-10-24T19:50:54.880216",
     "exception": false,
     "start_time": "2025-10-24T19:50:54.835146",
     "status": "completed"
    },
    "tags": []
   },
   "outputs": [
    {
     "name": "stdout",
     "output_type": "stream",
     "text": [
      "<class 'pandas.core.frame.DataFrame'>\n",
      "RangeIndex: 172585 entries, 0 to 172584\n",
      "Data columns (total 15 columns):\n",
      " #   Column                         Non-Null Count   Dtype   \n",
      "---  ------                         --------------   -----   \n",
      " 0   road_type                      172585 non-null  category\n",
      " 1   num_lanes                      172585 non-null  int64   \n",
      " 2   curvature                      172585 non-null  float64 \n",
      " 3   speed_limit                    172585 non-null  int64   \n",
      " 4   lighting                       172585 non-null  int64   \n",
      " 5   weather                        172585 non-null  int64   \n",
      " 6   road_signs_present             172585 non-null  int64   \n",
      " 7   public_road                    172585 non-null  int64   \n",
      " 8   time_of_day                    172585 non-null  category\n",
      " 9   holiday                        172585 non-null  int64   \n",
      " 10  school_season                  172585 non-null  int64   \n",
      " 11  num_reported_accidents         172585 non-null  int64   \n",
      " 12  num_lanes_cat                  172585 non-null  category\n",
      " 13  lanes_speed_lightning_feature  172585 non-null  category\n",
      " 14  speed_curature_ratio           172585 non-null  float64 \n",
      "dtypes: category(4), float64(2), int64(9)\n",
      "memory usage: 15.1 MB\n"
     ]
    }
   ],
   "source": [
    "X_test.info()"
   ]
  },
  {
   "cell_type": "code",
   "execution_count": 78,
   "id": "15fb4970",
   "metadata": {
    "execution": {
     "iopub.execute_input": "2025-10-24T19:50:54.929874Z",
     "iopub.status.busy": "2025-10-24T19:50:54.929495Z",
     "iopub.status.idle": "2025-10-24T19:51:31.975701Z",
     "shell.execute_reply": "2025-10-24T19:51:31.974852Z"
    },
    "papermill": {
     "duration": 37.073307,
     "end_time": "2025-10-24T19:51:31.977684",
     "exception": false,
     "start_time": "2025-10-24T19:50:54.904377",
     "status": "completed"
    },
    "tags": []
   },
   "outputs": [],
   "source": [
    "XGB_model = XGBRegressor(**parametrs)\n",
    "XGB_model.fit(X,y)\n",
    "pred = XGB_model.predict(X_test)"
   ]
  },
  {
   "cell_type": "code",
   "execution_count": 79,
   "id": "f2c2dbca",
   "metadata": {
    "execution": {
     "iopub.execute_input": "2025-10-24T19:51:32.031143Z",
     "iopub.status.busy": "2025-10-24T19:51:32.030479Z",
     "iopub.status.idle": "2025-10-24T19:51:32.230373Z",
     "shell.execute_reply": "2025-10-24T19:51:32.229476Z"
    },
    "papermill": {
     "duration": 0.226746,
     "end_time": "2025-10-24T19:51:32.232167",
     "exception": false,
     "start_time": "2025-10-24T19:51:32.005421",
     "status": "completed"
    },
    "tags": []
   },
   "outputs": [],
   "source": [
    "forget = pd.read_csv('/kaggle/input/playground-series-s5e10/test.csv')\n"
   ]
  },
  {
   "cell_type": "code",
   "execution_count": 80,
   "id": "87c82098",
   "metadata": {
    "execution": {
     "iopub.execute_input": "2025-10-24T19:51:32.282051Z",
     "iopub.status.busy": "2025-10-24T19:51:32.281749Z",
     "iopub.status.idle": "2025-10-24T19:51:32.564178Z",
     "shell.execute_reply": "2025-10-24T19:51:32.563331Z"
    },
    "papermill": {
     "duration": 0.309197,
     "end_time": "2025-10-24T19:51:32.565817",
     "exception": false,
     "start_time": "2025-10-24T19:51:32.256620",
     "status": "completed"
    },
    "tags": []
   },
   "outputs": [],
   "source": [
    "submission = pd.DataFrame({\n",
    "    'id': forget['id'],\n",
    "    'accident_risk': pred\n",
    "})\n",
    "\n",
    "# Save submission\n",
    "submission.to_csv(\"submission.csv\", index=False)"
   ]
  }
 ],
 "metadata": {
  "kaggle": {
   "accelerator": "none",
   "dataSources": [
    {
     "databundleVersionId": 13760552,
     "sourceId": 91721,
     "sourceType": "competition"
    }
   ],
   "dockerImageVersionId": 31153,
   "isGpuEnabled": false,
   "isInternetEnabled": true,
   "language": "python",
   "sourceType": "notebook"
  },
  "kernelspec": {
   "display_name": "Python 3",
   "language": "python",
   "name": "python3"
  },
  "language_info": {
   "codemirror_mode": {
    "name": "ipython",
    "version": 3
   },
   "file_extension": ".py",
   "mimetype": "text/x-python",
   "name": "python",
   "nbconvert_exporter": "python",
   "pygments_lexer": "ipython3",
   "version": "3.11.13"
  },
  "papermill": {
   "default_parameters": {},
   "duration": 198.9371,
   "end_time": "2025-10-24T19:51:33.411636",
   "environment_variables": {},
   "exception": null,
   "input_path": "__notebook__.ipynb",
   "output_path": "__notebook__.ipynb",
   "parameters": {},
   "start_time": "2025-10-24T19:48:14.474536",
   "version": "2.6.0"
  }
 },
 "nbformat": 4,
 "nbformat_minor": 5
}
